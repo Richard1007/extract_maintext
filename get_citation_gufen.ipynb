{
 "cells": [
  {
   "cell_type": "code",
   "execution_count": 3,
   "metadata": {},
   "outputs": [],
   "source": [
    "from crossref.restful import Works\n",
    "from crossref.restful import Journals\n",
    "from time import sleep\n",
    "import numpy as np\n",
    "from bs4 import BeautifulSoup, NavigableString\n",
    "import csv\n",
    "import pandas as pd\n",
    "from selenium import webdriver\n",
    "from selenium.webdriver.common.keys import Keys\n",
    "import pandas as pd\n",
    "from selenium import webdriver\n",
    "from webdriver_manager.chrome import ChromeDriverManager\n",
    "from selenium.webdriver.chrome.options import Options\n",
    "from selenium.webdriver.common.by import By\n",
    "import random"
   ]
  },
  {
   "cell_type": "markdown",
   "metadata": {},
   "source": [
    "### Read titles"
   ]
  },
  {
   "cell_type": "code",
   "execution_count": 4,
   "metadata": {},
   "outputs": [
    {
     "data": {
      "text/html": [
       "<div>\n",
       "<style scoped>\n",
       "    .dataframe tbody tr th:only-of-type {\n",
       "        vertical-align: middle;\n",
       "    }\n",
       "\n",
       "    .dataframe tbody tr th {\n",
       "        vertical-align: top;\n",
       "    }\n",
       "\n",
       "    .dataframe thead th {\n",
       "        text-align: right;\n",
       "    }\n",
       "</style>\n",
       "<table border=\"1\" class=\"dataframe\">\n",
       "  <thead>\n",
       "    <tr style=\"text-align: right;\">\n",
       "      <th></th>\n",
       "      <th>Unnamed: 0.1</th>\n",
       "      <th>Unnamed: 0</th>\n",
       "      <th>Title</th>\n",
       "      <th>Abstract</th>\n",
       "      <th>MainText</th>\n",
       "      <th>DOI</th>\n",
       "      <th>WordCount</th>\n",
       "    </tr>\n",
       "  </thead>\n",
       "  <tbody>\n",
       "    <tr>\n",
       "      <th>0</th>\n",
       "      <td>0</td>\n",
       "      <td>0</td>\n",
       "      <td>A Benefit Congruency Framework of Sales Promot...</td>\n",
       "      <td>Are monetary savings the only explanation for ...</td>\n",
       "      <td>Marketers and academics often view the relianc...</td>\n",
       "      <td>10.1509/jmkg.64.4.65.18071</td>\n",
       "      <td>73297</td>\n",
       "    </tr>\n",
       "    <tr>\n",
       "      <th>1</th>\n",
       "      <td>1</td>\n",
       "      <td>1</td>\n",
       "      <td>A Configuration Theory Assessment of Marketing...</td>\n",
       "      <td>Theory posits that organizing marketing activi...</td>\n",
       "      <td>Most businesses find it easier to formulate st...</td>\n",
       "      <td>10.1509/jmkg.67.1.100.18588</td>\n",
       "      <td>62187</td>\n",
       "    </tr>\n",
       "    <tr>\n",
       "      <th>2</th>\n",
       "      <td>2</td>\n",
       "      <td>2</td>\n",
       "      <td>A Configurational Perspective on Key Account M...</td>\n",
       "      <td>Most firms struggle with the challenge of mana...</td>\n",
       "      <td>Many companies today are faced with powerful a...</td>\n",
       "      <td>10.1509/jmkg.66.2.38.18471</td>\n",
       "      <td>81227</td>\n",
       "    </tr>\n",
       "    <tr>\n",
       "      <th>3</th>\n",
       "      <td>3</td>\n",
       "      <td>3</td>\n",
       "      <td>A Customer Lifetime Value Framework for Custom...</td>\n",
       "      <td>The authors evaluate the usefulness of custome...</td>\n",
       "      <td>Customer lifetime value (CLV) is rapidly gaini...</td>\n",
       "      <td>10.1509/jmkg.68.4.106.42728</td>\n",
       "      <td>64040</td>\n",
       "    </tr>\n",
       "    <tr>\n",
       "      <th>4</th>\n",
       "      <td>4</td>\n",
       "      <td>4</td>\n",
       "      <td>A Customer Relationship Management Roadmap: Wh...</td>\n",
       "      <td>The goal of this preface is to describe how th...</td>\n",
       "      <td>This article introduces the ten articles that ...</td>\n",
       "      <td>10.1509/jmkg.2005.69.4.155</td>\n",
       "      <td>57667</td>\n",
       "    </tr>\n",
       "    <tr>\n",
       "      <th>...</th>\n",
       "      <td>...</td>\n",
       "      <td>...</td>\n",
       "      <td>...</td>\n",
       "      <td>...</td>\n",
       "      <td>...</td>\n",
       "      <td>...</td>\n",
       "      <td>...</td>\n",
       "    </tr>\n",
       "    <tr>\n",
       "      <th>1013</th>\n",
       "      <td>1013</td>\n",
       "      <td>233</td>\n",
       "      <td>Why Consumers Don't see the Benefits of Geneti...</td>\n",
       "      <td>Evidence from four studies suggests that the m...</td>\n",
       "      <td>Factors that influence consumer food preferenc...</td>\n",
       "      <td>10.1509/jm.17.0100</td>\n",
       "      <td>64699</td>\n",
       "    </tr>\n",
       "    <tr>\n",
       "      <th>1014</th>\n",
       "      <td>1014</td>\n",
       "      <td>234</td>\n",
       "      <td>Why the Dynamics of Competition Matter for Cat...</td>\n",
       "      <td>Category management (CM) has become a widespre...</td>\n",
       "      <td>Organized retail is an important business sect...</td>\n",
       "      <td>10.1509/jm.15.0304</td>\n",
       "      <td>62818</td>\n",
       "    </tr>\n",
       "    <tr>\n",
       "      <th>1015</th>\n",
       "      <td>1015</td>\n",
       "      <td>235</td>\n",
       "      <td>Why Unhappy Customers Are Unlikely to Share Th...</td>\n",
       "      <td>For brands to thrive, they must understand con...</td>\n",
       "      <td>For brands to succeed, it is imperative that t...</td>\n",
       "      <td>10.1177/0022242920920295</td>\n",
       "      <td>74635</td>\n",
       "    </tr>\n",
       "    <tr>\n",
       "      <th>1016</th>\n",
       "      <td>1016</td>\n",
       "      <td>236</td>\n",
       "      <td>With Power Comes Responsibility: How Powerful ...</td>\n",
       "      <td>Firms sometimes engage in myopic management (e...</td>\n",
       "      <td>The motivation to satisfy Wall Street earnings...</td>\n",
       "      <td>10.1177/0022242919831993</td>\n",
       "      <td>71189</td>\n",
       "    </tr>\n",
       "    <tr>\n",
       "      <th>1017</th>\n",
       "      <td>1017</td>\n",
       "      <td>237</td>\n",
       "      <td>Within-Seller and Buyer–Seller Network Structu...</td>\n",
       "      <td>In business-to-business (B2B) markets, the suc...</td>\n",
       "      <td>Increasing specialization, fragmentation, and ...</td>\n",
       "      <td>10.1177/0022242918812056</td>\n",
       "      <td>87041</td>\n",
       "    </tr>\n",
       "  </tbody>\n",
       "</table>\n",
       "<p>1018 rows × 7 columns</p>\n",
       "</div>"
      ],
      "text/plain": [
       "      Unnamed: 0.1  Unnamed: 0  \\\n",
       "0                0           0   \n",
       "1                1           1   \n",
       "2                2           2   \n",
       "3                3           3   \n",
       "4                4           4   \n",
       "...            ...         ...   \n",
       "1013          1013         233   \n",
       "1014          1014         234   \n",
       "1015          1015         235   \n",
       "1016          1016         236   \n",
       "1017          1017         237   \n",
       "\n",
       "                                                  Title  \\\n",
       "0     A Benefit Congruency Framework of Sales Promot...   \n",
       "1     A Configuration Theory Assessment of Marketing...   \n",
       "2     A Configurational Perspective on Key Account M...   \n",
       "3     A Customer Lifetime Value Framework for Custom...   \n",
       "4     A Customer Relationship Management Roadmap: Wh...   \n",
       "...                                                 ...   \n",
       "1013  Why Consumers Don't see the Benefits of Geneti...   \n",
       "1014  Why the Dynamics of Competition Matter for Cat...   \n",
       "1015  Why Unhappy Customers Are Unlikely to Share Th...   \n",
       "1016  With Power Comes Responsibility: How Powerful ...   \n",
       "1017  Within-Seller and Buyer–Seller Network Structu...   \n",
       "\n",
       "                                               Abstract  \\\n",
       "0     Are monetary savings the only explanation for ...   \n",
       "1     Theory posits that organizing marketing activi...   \n",
       "2     Most firms struggle with the challenge of mana...   \n",
       "3     The authors evaluate the usefulness of custome...   \n",
       "4     The goal of this preface is to describe how th...   \n",
       "...                                                 ...   \n",
       "1013  Evidence from four studies suggests that the m...   \n",
       "1014  Category management (CM) has become a widespre...   \n",
       "1015  For brands to thrive, they must understand con...   \n",
       "1016  Firms sometimes engage in myopic management (e...   \n",
       "1017  In business-to-business (B2B) markets, the suc...   \n",
       "\n",
       "                                               MainText  \\\n",
       "0     Marketers and academics often view the relianc...   \n",
       "1     Most businesses find it easier to formulate st...   \n",
       "2     Many companies today are faced with powerful a...   \n",
       "3     Customer lifetime value (CLV) is rapidly gaini...   \n",
       "4     This article introduces the ten articles that ...   \n",
       "...                                                 ...   \n",
       "1013  Factors that influence consumer food preferenc...   \n",
       "1014  Organized retail is an important business sect...   \n",
       "1015  For brands to succeed, it is imperative that t...   \n",
       "1016  The motivation to satisfy Wall Street earnings...   \n",
       "1017  Increasing specialization, fragmentation, and ...   \n",
       "\n",
       "                              DOI  WordCount  \n",
       "0      10.1509/jmkg.64.4.65.18071      73297  \n",
       "1     10.1509/jmkg.67.1.100.18588      62187  \n",
       "2      10.1509/jmkg.66.2.38.18471      81227  \n",
       "3     10.1509/jmkg.68.4.106.42728      64040  \n",
       "4      10.1509/jmkg.2005.69.4.155      57667  \n",
       "...                           ...        ...  \n",
       "1013           10.1509/jm.17.0100      64699  \n",
       "1014           10.1509/jm.15.0304      62818  \n",
       "1015     10.1177/0022242920920295      74635  \n",
       "1016     10.1177/0022242919831993      71189  \n",
       "1017     10.1177/0022242918812056      87041  \n",
       "\n",
       "[1018 rows x 7 columns]"
      ]
     },
     "execution_count": 4,
     "metadata": {},
     "output_type": "execute_result"
    }
   ],
   "source": [
    "df=pd.read_csv('JM2000-2022.csv')\n",
    "df"
   ]
  },
  {
   "cell_type": "markdown",
   "metadata": {},
   "source": [
    "### Try with 10 titles"
   ]
  },
  {
   "cell_type": "code",
   "execution_count": 5,
   "metadata": {},
   "outputs": [],
   "source": [
    "titles=df['Title'][:10]"
   ]
  },
  {
   "cell_type": "markdown",
   "metadata": {},
   "source": [
    "### Make URL"
   ]
  },
  {
   "cell_type": "code",
   "execution_count": 6,
   "metadata": {},
   "outputs": [],
   "source": [
    "# https://xs.studiodahu.com/scholar?q=a+good+man+\n",
    "def make_url_gufen(keyword):\n",
    "    a = f\"{'+'.join(keyword.split())}\"\n",
    "    url = 'https://xs.studiodahu.com/scholar?q=' + a \n",
    "    return url\n",
    "# print(make_url_gufen('(When) are We Dynamically Optimal? A Psychological Field Guide for Marketing Modelers'))"
   ]
  },
  {
   "cell_type": "code",
   "execution_count": 42,
   "metadata": {},
   "outputs": [],
   "source": [
    "titles=df['Title'][:400]\n",
    "url_lst=[]\n",
    "for title in titles:\n",
    "    url = make_url_gufen(title)\n",
    "    url_lst.append(url)\n",
    "url_lst.insert(0, 'https://xs.studiodahu.com/scholar?q=TEST')\n",
    "    "
   ]
  },
  {
   "cell_type": "code",
   "execution_count": 43,
   "metadata": {},
   "outputs": [
    {
     "data": {
      "text/plain": [
       "'A Benefit Congruency Framework of Sales Promotion Effectiveness'"
      ]
     },
     "execution_count": 43,
     "metadata": {},
     "output_type": "execute_result"
    }
   ],
   "source": [
    "titles[0]"
   ]
  },
  {
   "cell_type": "code",
   "execution_count": 44,
   "metadata": {},
   "outputs": [
    {
     "name": "stderr",
     "output_type": "stream",
     "text": [
      "/var/folders/28/rtg76x2d1m791yxskrhmnffc0000gn/T/ipykernel_60958/1658036986.py:6: DeprecationWarning: executable_path has been deprecated, please pass in a Service object\n",
      "  driver = webdriver.Chrome(executable_path='/Users/richardpang/.wdm/drivers/chromedriver/mac64/106.0.5249/chromedriver',options=options)\n"
     ]
    },
    {
     "name": "stdout",
     "output_type": "stream",
     "text": [
      "10 articles have been collected.\n",
      "20 articles have been collected.\n",
      "30 articles have been collected.\n",
      "40 articles have been collected.\n",
      "50 articles have been collected.\n",
      "60 articles have been collected.\n",
      "70 articles have been collected.\n",
      "80 articles have been collected.\n",
      "90 articles have been collected.\n"
     ]
    },
    {
     "ename": "KeyboardInterrupt",
     "evalue": "",
     "output_type": "error",
     "traceback": [
      "\u001b[0;31m---------------------------------------------------------------------------\u001b[0m",
      "\u001b[0;31mKeyboardInterrupt\u001b[0m                         Traceback (most recent call last)",
      "Cell \u001b[0;32mIn [44], line 35\u001b[0m\n\u001b[1;32m     33\u001b[0m     \u001b[38;5;28;01mif\u001b[39;00m count\u001b[38;5;241m%\u001b[39m\u001b[38;5;241m10\u001b[39m \u001b[38;5;241m==\u001b[39m\u001b[38;5;241m0\u001b[39m:\n\u001b[1;32m     34\u001b[0m         \u001b[38;5;28mprint\u001b[39m(count, \u001b[38;5;124m'\u001b[39m\u001b[38;5;124marticles have been collected.\u001b[39m\u001b[38;5;124m'\u001b[39m)\n\u001b[0;32m---> 35\u001b[0m     sleep(np\u001b[38;5;241m.\u001b[39mrandom\u001b[38;5;241m.\u001b[39mrandint(\u001b[38;5;241m6\u001b[39m, \u001b[38;5;241m7\u001b[39m))\n\u001b[1;32m     36\u001b[0m driver\u001b[38;5;241m.\u001b[39mquit()\n\u001b[1;32m     37\u001b[0m citation_df \u001b[38;5;241m=\u001b[39m pd\u001b[38;5;241m.\u001b[39mDataFrame(citation_lst,columns\u001b[38;5;241m=\u001b[39m[\u001b[38;5;124m'\u001b[39m\u001b[38;5;124mTitle\u001b[39m\u001b[38;5;124m'\u001b[39m,\u001b[38;5;124m'\u001b[39m\u001b[38;5;124mCitation\u001b[39m\u001b[38;5;124m'\u001b[39m])\n",
      "\u001b[0;31mKeyboardInterrupt\u001b[0m: "
     ]
    }
   ],
   "source": [
    "#For ChromeDriver version 79.0.3945.16 or over\n",
    "options = Options()\n",
    "options.add_argument('--disable-blink-features=AutomationControlled') \n",
    "\n",
    "#Open Browser\n",
    "driver = webdriver.Chrome(executable_path='/Users/richardpang/.wdm/drivers/chromedriver/mac64/106.0.5249/chromedriver',options=options)\n",
    "citation_lst = []\n",
    "count = 0\n",
    "for i in range(len(url_lst)):\n",
    "# driver = webdriver.Chrome( '/Users/richardpang/.wdm/drivers/chromedriver/mac64/106.0.5249/chromedriver')\n",
    "    driver.get(url_lst[i])\n",
    "    element = driver.find_elements(By.TAG_NAME, 'div')\n",
    "    element = driver.find_elements(By.CLASS_NAME, 'gs_fl')\n",
    "    # print(len(element))\n",
    "    if len(element)>0:\n",
    "        # element.select_one(\":nth-child(2)\")\n",
    "        words = element[1].text.split()\n",
    "        # print(words)\n",
    "        for word in words:\n",
    "            if word.isdigit():\n",
    "                citation_lst.append([titles[i-1],word])\n",
    "                break\n",
    "        # citation = element[1].text.split('Cited by ')[1].split()[0]\n",
    "        # print([titles[i-1],citation])\n",
    "    # if len(element)>4:\n",
    "    #     title = element[0].text.split('\\n')[3]\n",
    "    #     abstract = element[2].text.split('\\n')[1]\n",
    "    #     main_text = element[3].text\n",
    "    #     doi = doi_lst[i]\n",
    "    #     article  = [title,abstract,main_text,doi]\n",
    "    #     article_lst.append(article)\n",
    "    count += 1\n",
    "    if count%10 ==0:\n",
    "        print(count, 'articles have been collected.')\n",
    "    sleep(np.random.randint(6, 7))\n",
    "driver.quit()\n",
    "citation_df = pd.DataFrame(citation_lst,columns=['Title','Citation'])\n",
    "citation_df"
   ]
  },
  {
   "cell_type": "code",
   "execution_count": 41,
   "metadata": {},
   "outputs": [
    {
     "data": {
      "text/plain": [
       "0     A Benefit Congruency Framework of Sales Promot...\n",
       "1     A Configuration Theory Assessment of Marketing...\n",
       "2     A Configurational Perspective on Key Account M...\n",
       "3     A Customer Lifetime Value Framework for Custom...\n",
       "4     A Customer Relationship Management Roadmap: Wh...\n",
       "5     Book Review: A General Theory of Competition: ...\n",
       "6     A Longitudinal Study of Complaining Customers'...\n",
       "7     A Marketing Perspective on Mergers and Acquisi...\n",
       "8     A Strategic Framework for Customer Relationshi...\n",
       "9     Actualizing Innovation Effort: The Impact of M...\n",
       "10               Book Review: The Entertainment Economy\n",
       "11    An Empirical Analysis of the Determinants of R...\n",
       "12    An Examination of Organizational Factors Influ...\n",
       "13    An Exploratory Study of the Introduction of On...\n",
       "14    An Investigation into the Antecedents of Organ...\n",
       "15    Antecedents and Consequences of Marketing Mana...\n",
       "16    Antecedents and Consequences of Merit Pay Fair...\n",
       "17    Antecedents and Consequences of the Service Cl...\n",
       "18    Antecedents and Outcomes of Marketing Strategy...\n",
       "19    Antecedents of Export Venture Performance: A T...\n",
       "Name: Title, dtype: object"
      ]
     },
     "execution_count": 41,
     "metadata": {},
     "output_type": "execute_result"
    }
   ],
   "source": [
    "citation_df['Title'][11]\n",
    "titles[:20]"
   ]
  }
 ],
 "metadata": {
  "kernelspec": {
   "display_name": "Python 3.10.2 64-bit",
   "language": "python",
   "name": "python3"
  },
  "language_info": {
   "codemirror_mode": {
    "name": "ipython",
    "version": 3
   },
   "file_extension": ".py",
   "mimetype": "text/x-python",
   "name": "python",
   "nbconvert_exporter": "python",
   "pygments_lexer": "ipython3",
   "version": "3.10.2"
  },
  "orig_nbformat": 4,
  "vscode": {
   "interpreter": {
    "hash": "7e1998ff7f8aa20ada591c520b972326324e5ea05489af9e422744c7c09f6dad"
   }
  }
 },
 "nbformat": 4,
 "nbformat_minor": 2
}
