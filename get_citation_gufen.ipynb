{
 "cells": [
  {
   "cell_type": "code",
   "execution_count": 167,
   "metadata": {},
   "outputs": [],
   "source": [
    "from crossref.restful import Works\n",
    "from crossref.restful import Journals\n",
    "from time import sleep\n",
    "import numpy as np\n",
    "from bs4 import BeautifulSoup, NavigableString\n",
    "import csv\n",
    "import pandas as pd\n",
    "from selenium import webdriver\n",
    "from selenium.webdriver.common.keys import Keys\n",
    "import pandas as pd\n",
    "from selenium import webdriver\n",
    "from webdriver_manager.chrome import ChromeDriverManager\n",
    "from selenium.webdriver.chrome.options import Options\n",
    "from selenium.webdriver.common.by import By\n",
    "import random\n",
    "import math"
   ]
  },
  {
   "cell_type": "markdown",
   "metadata": {},
   "source": [
    "### Read titles"
   ]
  },
  {
   "cell_type": "code",
   "execution_count": 140,
   "metadata": {},
   "outputs": [
    {
     "data": {
      "text/plain": [
       "'10.1509/jmkg.65.4.105.18387'"
      ]
     },
     "execution_count": 140,
     "metadata": {},
     "output_type": "execute_result"
    }
   ],
   "source": [
    "df=pd.read_csv('JM2000-2022.csv')\n",
    "df[\"DOI\"][102]"
   ]
  },
  {
   "cell_type": "markdown",
   "metadata": {},
   "source": [
    "### Collect citations"
   ]
  },
  {
   "cell_type": "code",
   "execution_count": 236,
   "metadata": {},
   "outputs": [],
   "source": [
    "titles=df['Title'][700:]\n",
    "## 630-760 is good\n",
    "# url_lst=[]\n",
    "# for title in titles:\n",
    "#     url = make_url_gufen(title)\n",
    "#     url_lst.append(url)\n",
    "# url_lst.insert(0, 'https://xs.studiodahu.com/scholar?q=TEST')\n",
    "    "
   ]
  },
  {
   "cell_type": "code",
   "execution_count": 249,
   "metadata": {},
   "outputs": [
    {
     "data": {
      "text/plain": [
       "172"
      ]
     },
     "execution_count": 249,
     "metadata": {},
     "output_type": "execute_result"
    }
   ],
   "source": [
    "final_titles = []\n",
    "for i in range(len(df_check)):\n",
    "    if math.isnan(df_check['Citation'][i]) == True:\n",
    "        final_titles.append(df_check['Title'][i])\n",
    "len(final_titles)"
   ]
  },
  {
   "cell_type": "code",
   "execution_count": 250,
   "metadata": {},
   "outputs": [
    {
     "name": "stderr",
     "output_type": "stream",
     "text": [
      "/var/folders/28/rtg76x2d1m791yxskrhmnffc0000gn/T/ipykernel_60958/2136746806.py:6: DeprecationWarning: executable_path has been deprecated, please pass in a Service object\n",
      "  driver = webdriver.Chrome(executable_path='/Users/richardpang/.wdm/drivers/chromedriver/mac64/106.0.5249/chromedriver',options=options)\n"
     ]
    },
    {
     "name": "stdout",
     "output_type": "stream",
     "text": [
      "10 articles have been collected.\n",
      "20 articles have been collected.\n",
      "30 articles have been collected.\n",
      "40 articles have been collected.\n",
      "50 articles have been collected.\n",
      "60 articles have been collected.\n",
      "70 articles have been collected.\n",
      "80 articles have been collected.\n",
      "90 articles have been collected.\n",
      "100 articles have been collected.\n",
      "110 articles have been collected.\n",
      "120 articles have been collected.\n",
      "130 articles have been collected.\n",
      "140 articles have been collected.\n",
      "150 articles have been collected.\n",
      "160 articles have been collected.\n",
      "170 articles have been collected.\n"
     ]
    },
    {
     "data": {
      "text/html": [
       "<div>\n",
       "<style scoped>\n",
       "    .dataframe tbody tr th:only-of-type {\n",
       "        vertical-align: middle;\n",
       "    }\n",
       "\n",
       "    .dataframe tbody tr th {\n",
       "        vertical-align: top;\n",
       "    }\n",
       "\n",
       "    .dataframe thead th {\n",
       "        text-align: right;\n",
       "    }\n",
       "</style>\n",
       "<table border=\"1\" class=\"dataframe\">\n",
       "  <thead>\n",
       "    <tr style=\"text-align: right;\">\n",
       "      <th></th>\n",
       "      <th>Title</th>\n",
       "      <th>Citation</th>\n",
       "    </tr>\n",
       "  </thead>\n",
       "  <tbody>\n",
       "    <tr>\n",
       "      <th>0</th>\n",
       "      <td>Book Review: Marketing and the Bottom Line: Cr...</td>\n",
       "      <td>3</td>\n",
       "    </tr>\n",
       "    <tr>\n",
       "      <th>1</th>\n",
       "      <td>Strategic Firm Commitments and Rewards for Cus...</td>\n",
       "      <td>462</td>\n",
       "    </tr>\n",
       "    <tr>\n",
       "      <th>2</th>\n",
       "      <td>Convergent Products: What Functionalities Add ...</td>\n",
       "      <td>289</td>\n",
       "    </tr>\n",
       "    <tr>\n",
       "      <th>3</th>\n",
       "      <td>Private-Label Use and Store Loyalty</td>\n",
       "      <td>679</td>\n",
       "    </tr>\n",
       "    <tr>\n",
       "      <th>4</th>\n",
       "      <td>When Customer Love Turns into Lasting Hate: Th...</td>\n",
       "      <td>989</td>\n",
       "    </tr>\n",
       "    <tr>\n",
       "      <th>...</th>\n",
       "      <td>...</td>\n",
       "      <td>...</td>\n",
       "    </tr>\n",
       "    <tr>\n",
       "      <th>158</th>\n",
       "      <td>Why Consumers Don't see the Benefits of Geneti...</td>\n",
       "      <td>19</td>\n",
       "    </tr>\n",
       "    <tr>\n",
       "      <th>159</th>\n",
       "      <td>Why the Dynamics of Competition Matter for Cat...</td>\n",
       "      <td>12</td>\n",
       "    </tr>\n",
       "    <tr>\n",
       "      <th>160</th>\n",
       "      <td>Why Unhappy Customers Are Unlikely to Share Th...</td>\n",
       "      <td>15</td>\n",
       "    </tr>\n",
       "    <tr>\n",
       "      <th>161</th>\n",
       "      <td>With Power Comes Responsibility: How Powerful ...</td>\n",
       "      <td>26</td>\n",
       "    </tr>\n",
       "    <tr>\n",
       "      <th>162</th>\n",
       "      <td>Within-Seller and Buyer–Seller Network Structu...</td>\n",
       "      <td>40</td>\n",
       "    </tr>\n",
       "  </tbody>\n",
       "</table>\n",
       "<p>163 rows × 2 columns</p>\n",
       "</div>"
      ],
      "text/plain": [
       "                                                 Title Citation\n",
       "0    Book Review: Marketing and the Bottom Line: Cr...        3\n",
       "1    Strategic Firm Commitments and Rewards for Cus...      462\n",
       "2    Convergent Products: What Functionalities Add ...      289\n",
       "3                  Private-Label Use and Store Loyalty      679\n",
       "4    When Customer Love Turns into Lasting Hate: Th...      989\n",
       "..                                                 ...      ...\n",
       "158  Why Consumers Don't see the Benefits of Geneti...       19\n",
       "159  Why the Dynamics of Competition Matter for Cat...       12\n",
       "160  Why Unhappy Customers Are Unlikely to Share Th...       15\n",
       "161  With Power Comes Responsibility: How Powerful ...       26\n",
       "162  Within-Seller and Buyer–Seller Network Structu...       40\n",
       "\n",
       "[163 rows x 2 columns]"
      ]
     },
     "execution_count": 250,
     "metadata": {},
     "output_type": "execute_result"
    }
   ],
   "source": [
    "#For ChromeDriver version 79.0.3945.16 or over\n",
    "options = Options()\n",
    "options.add_argument('--disable-blink-features=AutomationControlled') \n",
    "\n",
    "#Open Browser\n",
    "driver = webdriver.Chrome(executable_path='/Users/richardpang/.wdm/drivers/chromedriver/mac64/106.0.5249/chromedriver',options=options)\n",
    "citation_lst = []\n",
    "count = 0\n",
    "for title in final_titles:\n",
    "# driver = webdriver.Chrome( '/Users/richardpang/.wdm/drivers/chromedriver/mac64/106.0.5249/chromedriver')\n",
    "    a = f\"{'+'.join(title.split())}\"\n",
    "    url = 'https://xs.studiodahu.com/scholar?q=' + a \n",
    "    driver.get(url)\n",
    "    element = driver.find_elements(By.TAG_NAME, 'div')\n",
    "    element = driver.find_elements(By.CLASS_NAME, 'gs_fl')\n",
    "    # print(len(element))\n",
    "    if len(element)>0:\n",
    "        # element.select_one(\":nth-child(2)\")\n",
    "        words = element[1].text.split()\n",
    "        # print(words)\n",
    "        for word in words:\n",
    "            if word.isdigit():\n",
    "                citation_lst.append([title,word])\n",
    "                break\n",
    "        # citation = element[1].text.split('Cited by ')[1].split()[0]\n",
    "        # print([titles[i-1],citation])\n",
    "    # if len(element)>4:\n",
    "    #     title = element[0].text.split('\\n')[3]\n",
    "    #     abstract = element[2].text.split('\\n')[1]\n",
    "    #     main_text = element[3].text\n",
    "    #     doi = doi_lst[i]\n",
    "    #     article  = [title,abstract,main_text,doi]\n",
    "    #     article_lst.append(article)\n",
    "    count += 1\n",
    "    if count%10 ==0:\n",
    "        print(count, 'articles have been collected.')\n",
    "    sleep(np.random.randint(2, 3))\n",
    "driver.quit()\n",
    "citation_df = pd.DataFrame(citation_lst,columns=['Title','Citation'])\n",
    "citation_df"
   ]
  },
  {
   "cell_type": "code",
   "execution_count": 251,
   "metadata": {},
   "outputs": [
    {
     "data": {
      "text/html": [
       "<div>\n",
       "<style scoped>\n",
       "    .dataframe tbody tr th:only-of-type {\n",
       "        vertical-align: middle;\n",
       "    }\n",
       "\n",
       "    .dataframe tbody tr th {\n",
       "        vertical-align: top;\n",
       "    }\n",
       "\n",
       "    .dataframe thead th {\n",
       "        text-align: right;\n",
       "    }\n",
       "</style>\n",
       "<table border=\"1\" class=\"dataframe\">\n",
       "  <thead>\n",
       "    <tr style=\"text-align: right;\">\n",
       "      <th></th>\n",
       "      <th>Title</th>\n",
       "      <th>Citation</th>\n",
       "    </tr>\n",
       "  </thead>\n",
       "  <tbody>\n",
       "    <tr>\n",
       "      <th>0</th>\n",
       "      <td>Book Review: Marketing and the Bottom Line: Cr...</td>\n",
       "      <td>3</td>\n",
       "    </tr>\n",
       "    <tr>\n",
       "      <th>1</th>\n",
       "      <td>Strategic Firm Commitments and Rewards for Cus...</td>\n",
       "      <td>462</td>\n",
       "    </tr>\n",
       "    <tr>\n",
       "      <th>2</th>\n",
       "      <td>Convergent Products: What Functionalities Add ...</td>\n",
       "      <td>289</td>\n",
       "    </tr>\n",
       "    <tr>\n",
       "      <th>3</th>\n",
       "      <td>Private-Label Use and Store Loyalty</td>\n",
       "      <td>679</td>\n",
       "    </tr>\n",
       "    <tr>\n",
       "      <th>4</th>\n",
       "      <td>When Customer Love Turns into Lasting Hate: Th...</td>\n",
       "      <td>989</td>\n",
       "    </tr>\n",
       "    <tr>\n",
       "      <th>...</th>\n",
       "      <td>...</td>\n",
       "      <td>...</td>\n",
       "    </tr>\n",
       "    <tr>\n",
       "      <th>158</th>\n",
       "      <td>Why Consumers Don't see the Benefits of Geneti...</td>\n",
       "      <td>19</td>\n",
       "    </tr>\n",
       "    <tr>\n",
       "      <th>159</th>\n",
       "      <td>Why the Dynamics of Competition Matter for Cat...</td>\n",
       "      <td>12</td>\n",
       "    </tr>\n",
       "    <tr>\n",
       "      <th>160</th>\n",
       "      <td>Why Unhappy Customers Are Unlikely to Share Th...</td>\n",
       "      <td>15</td>\n",
       "    </tr>\n",
       "    <tr>\n",
       "      <th>161</th>\n",
       "      <td>With Power Comes Responsibility: How Powerful ...</td>\n",
       "      <td>26</td>\n",
       "    </tr>\n",
       "    <tr>\n",
       "      <th>162</th>\n",
       "      <td>Within-Seller and Buyer–Seller Network Structu...</td>\n",
       "      <td>40</td>\n",
       "    </tr>\n",
       "  </tbody>\n",
       "</table>\n",
       "<p>163 rows × 2 columns</p>\n",
       "</div>"
      ],
      "text/plain": [
       "                                                 Title Citation\n",
       "0    Book Review: Marketing and the Bottom Line: Cr...        3\n",
       "1    Strategic Firm Commitments and Rewards for Cus...      462\n",
       "2    Convergent Products: What Functionalities Add ...      289\n",
       "3                  Private-Label Use and Store Loyalty      679\n",
       "4    When Customer Love Turns into Lasting Hate: Th...      989\n",
       "..                                                 ...      ...\n",
       "158  Why Consumers Don't see the Benefits of Geneti...       19\n",
       "159  Why the Dynamics of Competition Matter for Cat...       12\n",
       "160  Why Unhappy Customers Are Unlikely to Share Th...       15\n",
       "161  With Power Comes Responsibility: How Powerful ...       26\n",
       "162  Within-Seller and Buyer–Seller Network Structu...       40\n",
       "\n",
       "[163 rows x 2 columns]"
      ]
     },
     "execution_count": 251,
     "metadata": {},
     "output_type": "execute_result"
    }
   ],
   "source": [
    "citation_df = pd.DataFrame(citation_lst,columns=['Title','Citation'])\n",
    "citation_df"
   ]
  },
  {
   "cell_type": "markdown",
   "metadata": {},
   "source": [
    "### Original data"
   ]
  },
  {
   "cell_type": "code",
   "execution_count": 252,
   "metadata": {},
   "outputs": [],
   "source": [
    "df = pd.read_csv('/Users/richardpang/Desktop/extract_maintext-1/merge.csv')"
   ]
  },
  {
   "cell_type": "markdown",
   "metadata": {},
   "source": [
    "#### Count how many citations are available"
   ]
  },
  {
   "cell_type": "code",
   "execution_count": 253,
   "metadata": {},
   "outputs": [
    {
     "data": {
      "text/plain": [
       "846"
      ]
     },
     "execution_count": 253,
     "metadata": {},
     "output_type": "execute_result"
    }
   ],
   "source": [
    "count = 0\n",
    "for i in df['Citation']:\n",
    "    # print(i,type(i))\n",
    "    if math.isnan(i) == False:\n",
    "        count += 1\n",
    "count"
   ]
  },
  {
   "cell_type": "markdown",
   "metadata": {},
   "source": [
    "#### Update citations"
   ]
  },
  {
   "cell_type": "code",
   "execution_count": 254,
   "metadata": {},
   "outputs": [
    {
     "name": "stderr",
     "output_type": "stream",
     "text": [
      "/var/folders/28/rtg76x2d1m791yxskrhmnffc0000gn/T/ipykernel_60958/3561171303.py:9: SettingWithCopyWarning: \n",
      "A value is trying to be set on a copy of a slice from a DataFrame\n",
      "\n",
      "See the caveats in the documentation: https://pandas.pydata.org/pandas-docs/stable/user_guide/indexing.html#returning-a-view-versus-a-copy\n",
      "  df['Citation'][i] = float(citation_citation_df)\n"
     ]
    }
   ],
   "source": [
    "for j in range(len(citation_df)):\n",
    "    title_citation_df = citation_df['Title'][j]\n",
    "    citation_citation_df = citation_df['Citation'][j]\n",
    "\n",
    "    for i in range(len(df)):\n",
    "        title_df = df['Title'][i]\n",
    "        if title_citation_df == title_df:\n",
    "            # print(citation_cit)\n",
    "            df['Citation'][i] = float(citation_citation_df)\n"
   ]
  },
  {
   "cell_type": "markdown",
   "metadata": {},
   "source": [
    "### Check citations after updates, it should increase"
   ]
  },
  {
   "cell_type": "code",
   "execution_count": 255,
   "metadata": {},
   "outputs": [
    {
     "data": {
      "text/plain": [
       "1009"
      ]
     },
     "execution_count": 255,
     "metadata": {},
     "output_type": "execute_result"
    }
   ],
   "source": [
    "count=0\n",
    "for i in df['Citation']:\n",
    "    # print(i,type(i))\n",
    "    if math.isnan(i) == False:\n",
    "        count += 1\n",
    "count"
   ]
  },
  {
   "cell_type": "markdown",
   "metadata": {},
   "source": [
    "### Save the update citations"
   ]
  },
  {
   "cell_type": "code",
   "execution_count": 256,
   "metadata": {},
   "outputs": [],
   "source": [
    "df.to_csv('merge.csv')"
   ]
  },
  {
   "cell_type": "code",
   "execution_count": 265,
   "metadata": {},
   "outputs": [
    {
     "data": {
      "text/plain": [
       "1009"
      ]
     },
     "execution_count": 265,
     "metadata": {},
     "output_type": "execute_result"
    }
   ],
   "source": [
    "df_check = pd.read_csv('/Users/richardpang/Desktop/extract_maintext-1/merge.csv')\n",
    "count=0\n",
    "for i in df_check['Citation']:\n",
    "    # print(i,type(i))\n",
    "    if math.isnan(i) == False:\n",
    "        count += 1\n",
    "count"
   ]
  },
  {
   "cell_type": "code",
   "execution_count": 266,
   "metadata": {},
   "outputs": [
    {
     "name": "stderr",
     "output_type": "stream",
     "text": [
      "/var/folders/28/rtg76x2d1m791yxskrhmnffc0000gn/T/ipykernel_60958/4116885861.py:6: SettingWithCopyWarning: \n",
      "A value is trying to be set on a copy of a slice from a DataFrame\n",
      "\n",
      "See the caveats in the documentation: https://pandas.pydata.org/pandas-docs/stable/user_guide/indexing.html#returning-a-view-versus-a-copy\n",
      "  df_check['Citation'][i] = result[j]\n"
     ]
    }
   ],
   "source": [
    "final_titles = []\n",
    "result = [2438,0,0,0,0,295,0,69,237]\n",
    "j = 0\n",
    "for i in range(len(df_check)):\n",
    "    if math.isnan(df_check['Citation'][i]) == True:\n",
    "        df_check['Citation'][i] = result[j]\n",
    "        j += 1\n"
   ]
  },
  {
   "cell_type": "code",
   "execution_count": 268,
   "metadata": {},
   "outputs": [
    {
     "data": {
      "text/plain": [
       "0"
      ]
     },
     "execution_count": 268,
     "metadata": {},
     "output_type": "execute_result"
    }
   ],
   "source": [
    "count = 0\n",
    "for i in range(len(df_check)):\n",
    "    if math.isnan(df_check['Citation'][i]) == True:\n",
    "        count += 1\n",
    "count"
   ]
  },
  {
   "cell_type": "code",
   "execution_count": 272,
   "metadata": {},
   "outputs": [
    {
     "ename": "AttributeError",
     "evalue": "'DataFrame' object has no attribute 'unique'",
     "output_type": "error",
     "traceback": [
      "\u001b[0;31m---------------------------------------------------------------------------\u001b[0m",
      "\u001b[0;31mAttributeError\u001b[0m                            Traceback (most recent call last)",
      "Cell \u001b[0;32mIn [272], line 2\u001b[0m\n\u001b[1;32m      1\u001b[0m df\u001b[38;5;241m=\u001b[39m pd\u001b[38;5;241m.\u001b[39mread_csv(\u001b[38;5;124m'\u001b[39m\u001b[38;5;124m/Users/richardpang/Desktop/extract_maintext-1/JM2000-2022_citation.csv\u001b[39m\u001b[38;5;124m'\u001b[39m)\n\u001b[0;32m----> 2\u001b[0m df\u001b[38;5;241m.\u001b[39munique()\n",
      "File \u001b[0;32m/Library/Frameworks/Python.framework/Versions/3.10/lib/python3.10/site-packages/pandas/core/generic.py:5907\u001b[0m, in \u001b[0;36mNDFrame.__getattr__\u001b[0;34m(self, name)\u001b[0m\n\u001b[1;32m   5900\u001b[0m \u001b[39mif\u001b[39;00m (\n\u001b[1;32m   5901\u001b[0m     name \u001b[39mnot\u001b[39;00m \u001b[39min\u001b[39;00m \u001b[39mself\u001b[39m\u001b[39m.\u001b[39m_internal_names_set\n\u001b[1;32m   5902\u001b[0m     \u001b[39mand\u001b[39;00m name \u001b[39mnot\u001b[39;00m \u001b[39min\u001b[39;00m \u001b[39mself\u001b[39m\u001b[39m.\u001b[39m_metadata\n\u001b[1;32m   5903\u001b[0m     \u001b[39mand\u001b[39;00m name \u001b[39mnot\u001b[39;00m \u001b[39min\u001b[39;00m \u001b[39mself\u001b[39m\u001b[39m.\u001b[39m_accessors\n\u001b[1;32m   5904\u001b[0m     \u001b[39mand\u001b[39;00m \u001b[39mself\u001b[39m\u001b[39m.\u001b[39m_info_axis\u001b[39m.\u001b[39m_can_hold_identifiers_and_holds_name(name)\n\u001b[1;32m   5905\u001b[0m ):\n\u001b[1;32m   5906\u001b[0m     \u001b[39mreturn\u001b[39;00m \u001b[39mself\u001b[39m[name]\n\u001b[0;32m-> 5907\u001b[0m \u001b[39mreturn\u001b[39;00m \u001b[39mobject\u001b[39;49m\u001b[39m.\u001b[39;49m\u001b[39m__getattribute__\u001b[39;49m(\u001b[39mself\u001b[39;49m, name)\n",
      "\u001b[0;31mAttributeError\u001b[0m: 'DataFrame' object has no attribute 'unique'"
     ]
    }
   ],
   "source": [
    "df= pd.read_csv('/Users/richardpang/Desktop/extract_maintext-1/JM2000-2022_citation.csv')"
   ]
  }
 ],
 "metadata": {
  "kernelspec": {
   "display_name": "Python 3.10.2 64-bit",
   "language": "python",
   "name": "python3"
  },
  "language_info": {
   "codemirror_mode": {
    "name": "ipython",
    "version": 3
   },
   "file_extension": ".py",
   "mimetype": "text/x-python",
   "name": "python",
   "nbconvert_exporter": "python",
   "pygments_lexer": "ipython3",
   "version": "3.10.2"
  },
  "orig_nbformat": 4,
  "vscode": {
   "interpreter": {
    "hash": "7e1998ff7f8aa20ada591c520b972326324e5ea05489af9e422744c7c09f6dad"
   }
  }
 },
 "nbformat": 4,
 "nbformat_minor": 2
}
