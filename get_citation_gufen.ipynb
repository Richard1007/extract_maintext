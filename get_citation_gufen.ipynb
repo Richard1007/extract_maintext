{
 "cells": [
  {
   "cell_type": "code",
   "execution_count": 1,
   "metadata": {},
   "outputs": [],
   "source": [
    "from crossref.restful import Works\n",
    "from crossref.restful import Journals\n",
    "from time import sleep\n",
    "import numpy as np\n",
    "from bs4 import BeautifulSoup, NavigableString\n",
    "import csv\n",
    "import pandas as pd\n",
    "from selenium import webdriver\n",
    "from selenium.webdriver.common.keys import Keys\n",
    "import pandas as pd\n",
    "from selenium import webdriver\n",
    "from webdriver_manager.chrome import ChromeDriverManager\n",
    "from selenium.webdriver.chrome.options import Options\n",
    "from selenium.webdriver.common.by import By\n",
    "import random\n",
    "import math"
   ]
  },
  {
   "cell_type": "markdown",
   "metadata": {},
   "source": [
    "### Read titles"
   ]
  },
  {
   "cell_type": "code",
   "execution_count": 11,
   "metadata": {},
   "outputs": [
    {
     "data": {
      "text/plain": [
       "328"
      ]
     },
     "execution_count": 11,
     "metadata": {},
     "output_type": "execute_result"
    }
   ],
   "source": [
    "df=pd.read_csv('JCR output /JCR DOI list/JCR2000-2005.csv')\n",
    "len(df[\"DOI\"].unique())"
   ]
  },
  {
   "cell_type": "markdown",
   "metadata": {},
   "source": [
    "### Collect citations"
   ]
  },
  {
   "cell_type": "code",
   "execution_count": 12,
   "metadata": {},
   "outputs": [
    {
     "data": {
      "text/plain": [
       "0      10.1086/322904\n",
       "1      10.1086/383439\n",
       "2      10.1086/376806\n",
       "3      10.1086/339923\n",
       "4      10.1086/374692\n",
       "            ...      \n",
       "323    10.1086/339922\n",
       "324    10.1086/346245\n",
       "325    10.1086/209569\n",
       "326    10.1086/323729\n",
       "327    10.1086/338209\n",
       "Name: DOI, Length: 328, dtype: object"
      ]
     },
     "execution_count": 12,
     "metadata": {},
     "output_type": "execute_result"
    }
   ],
   "source": [
    "titles=df['DOI']\n",
    "## 630-760 is good\n",
    "# url_lst=[]\n",
    "# for title in titles:\n",
    "#     url = make_url_gufen(title)\n",
    "#     url_lst.append(url)\n",
    "# url_lst.insert(0, 'https://xs.studiodahu.com/scholar?q=TEST')\n",
    "titles\n",
    "    "
   ]
  },
  {
   "cell_type": "code",
   "execution_count": 249,
   "metadata": {},
   "outputs": [
    {
     "data": {
      "text/plain": [
       "172"
      ]
     },
     "execution_count": 249,
     "metadata": {},
     "output_type": "execute_result"
    }
   ],
   "source": [
    "# final_titles = []\n",
    "# for i in range(len(df_check)):\n",
    "#     if math.isnan(df_check['Citation'][i]) == True:\n",
    "#         final_titles.append(df_check['Title'][i])\n",
    "# len(final_titles)"
   ]
  },
  {
   "cell_type": "code",
   "execution_count": 13,
   "metadata": {},
   "outputs": [
    {
     "name": "stderr",
     "output_type": "stream",
     "text": [
      "/var/folders/28/rtg76x2d1m791yxskrhmnffc0000gn/T/ipykernel_10906/1378631030.py:6: DeprecationWarning: executable_path has been deprecated, please pass in a Service object\n",
      "  driver = webdriver.Chrome(executable_path='/Users/richardpang/.wdm/drivers/chromedriver/mac64/106.0.5249/chromedriver',options=options)\n"
     ]
    },
    {
     "name": "stdout",
     "output_type": "stream",
     "text": [
      "10 articles have been collected.\n",
      "20 articles have been collected.\n",
      "30 articles have been collected.\n",
      "40 articles have been collected.\n",
      "50 articles have been collected.\n",
      "60 articles have been collected.\n",
      "70 articles have been collected.\n",
      "80 articles have been collected.\n",
      "90 articles have been collected.\n",
      "100 articles have been collected.\n",
      "110 articles have been collected.\n",
      "120 articles have been collected.\n",
      "130 articles have been collected.\n",
      "140 articles have been collected.\n",
      "150 articles have been collected.\n",
      "160 articles have been collected.\n",
      "170 articles have been collected.\n",
      "180 articles have been collected.\n",
      "190 articles have been collected.\n",
      "200 articles have been collected.\n",
      "210 articles have been collected.\n",
      "220 articles have been collected.\n",
      "230 articles have been collected.\n",
      "240 articles have been collected.\n",
      "250 articles have been collected.\n",
      "260 articles have been collected.\n",
      "270 articles have been collected.\n",
      "280 articles have been collected.\n",
      "290 articles have been collected.\n",
      "300 articles have been collected.\n",
      "310 articles have been collected.\n",
      "320 articles have been collected.\n"
     ]
    },
    {
     "data": {
      "text/html": [
       "<div>\n",
       "<style scoped>\n",
       "    .dataframe tbody tr th:only-of-type {\n",
       "        vertical-align: middle;\n",
       "    }\n",
       "\n",
       "    .dataframe tbody tr th {\n",
       "        vertical-align: top;\n",
       "    }\n",
       "\n",
       "    .dataframe thead th {\n",
       "        text-align: right;\n",
       "    }\n",
       "</style>\n",
       "<table border=\"1\" class=\"dataframe\">\n",
       "  <thead>\n",
       "    <tr style=\"text-align: right;\">\n",
       "      <th></th>\n",
       "      <th>DOI</th>\n",
       "      <th>Citation</th>\n",
       "    </tr>\n",
       "  </thead>\n",
       "  <tbody>\n",
       "    <tr>\n",
       "      <th>0</th>\n",
       "      <td>10.1086/383439</td>\n",
       "      <td>4157</td>\n",
       "    </tr>\n",
       "    <tr>\n",
       "      <th>1</th>\n",
       "      <td>10.1086/376806</td>\n",
       "      <td>3</td>\n",
       "    </tr>\n",
       "    <tr>\n",
       "      <th>2</th>\n",
       "      <td>10.1086/339923</td>\n",
       "      <td>80</td>\n",
       "    </tr>\n",
       "    <tr>\n",
       "      <th>3</th>\n",
       "      <td>10.1086/374692</td>\n",
       "      <td>377</td>\n",
       "    </tr>\n",
       "    <tr>\n",
       "      <th>4</th>\n",
       "      <td>10.1086/497560</td>\n",
       "      <td>60</td>\n",
       "    </tr>\n",
       "    <tr>\n",
       "      <th>...</th>\n",
       "      <td>...</td>\n",
       "      <td>...</td>\n",
       "    </tr>\n",
       "    <tr>\n",
       "      <th>308</th>\n",
       "      <td>10.1086/339922</td>\n",
       "      <td>274</td>\n",
       "    </tr>\n",
       "    <tr>\n",
       "      <th>309</th>\n",
       "      <td>10.1086/346245</td>\n",
       "      <td>97</td>\n",
       "    </tr>\n",
       "    <tr>\n",
       "      <th>310</th>\n",
       "      <td>10.1086/209569</td>\n",
       "      <td>318</td>\n",
       "    </tr>\n",
       "    <tr>\n",
       "      <th>311</th>\n",
       "      <td>10.1086/323729</td>\n",
       "      <td>750</td>\n",
       "    </tr>\n",
       "    <tr>\n",
       "      <th>312</th>\n",
       "      <td>10.1086/338209</td>\n",
       "      <td>576</td>\n",
       "    </tr>\n",
       "  </tbody>\n",
       "</table>\n",
       "<p>313 rows × 2 columns</p>\n",
       "</div>"
      ],
      "text/plain": [
       "                DOI Citation\n",
       "0    10.1086/383439     4157\n",
       "1    10.1086/376806        3\n",
       "2    10.1086/339923       80\n",
       "3    10.1086/374692      377\n",
       "4    10.1086/497560       60\n",
       "..              ...      ...\n",
       "308  10.1086/339922      274\n",
       "309  10.1086/346245       97\n",
       "310  10.1086/209569      318\n",
       "311  10.1086/323729      750\n",
       "312  10.1086/338209      576\n",
       "\n",
       "[313 rows x 2 columns]"
      ]
     },
     "execution_count": 13,
     "metadata": {},
     "output_type": "execute_result"
    }
   ],
   "source": [
    "#For ChromeDriver version 79.0.3945.16 or over\n",
    "options = Options()\n",
    "options.add_argument('--disable-blink-features=AutomationControlled') \n",
    "\n",
    "#Open Browser\n",
    "driver = webdriver.Chrome(executable_path='/Users/richardpang/.wdm/drivers/chromedriver/mac64/106.0.5249/chromedriver',options=options)\n",
    "citation_lst = []\n",
    "count = 0\n",
    "for title in titles:\n",
    "# driver = webdriver.Chrome( '/Users/richardpang/.wdm/drivers/chromedriver/mac64/106.0.5249/chromedriver')\n",
    "    a = f\"{'+'.join(title.split())}\"\n",
    "    url = 'https://xs.studiodahu.com/scholar?q=' + a \n",
    "    driver.get(url)\n",
    "    element = driver.find_elements(By.TAG_NAME, 'div')\n",
    "    element = driver.find_elements(By.CLASS_NAME, 'gs_fl')\n",
    "    # print(len(element))\n",
    "    if len(element)>0:\n",
    "        # element.select_one(\":nth-child(2)\")\n",
    "        words = element[1].text.split()\n",
    "        # print(words)\n",
    "        for word in words:\n",
    "            if word.isdigit():\n",
    "                citation_lst.append([title,word])\n",
    "                break\n",
    "    \n",
    "        # citation = element[1].text.split('Cited by ')[1].split()[0]\n",
    "        # print([titles[i-1],citation])\n",
    "    # if len(element)>4:\n",
    "    #     title = element[0].text.split('\\n')[3]\n",
    "    #     abstract = element[2].text.split('\\n')[1]\n",
    "    #     main_text = element[3].text\n",
    "    #     doi = doi_lst[i]\n",
    "    #     article  = [title,abstract,main_text,doi]\n",
    "    #     article_lst.append(article)\n",
    "    count += 1\n",
    "    if count%10 ==0:\n",
    "        print(count, 'articles have been collected.')\n",
    "    sleep(2)\n",
    "driver.quit()\n",
    "citation_df = pd.DataFrame(citation_lst,columns=['DOI','Citation'])\n",
    "citation_df"
   ]
  },
  {
   "cell_type": "code",
   "execution_count": 14,
   "metadata": {},
   "outputs": [],
   "source": [
    "# citation_df = pd.DataFrame(citation_lst,columns=['Title','Citation'])\n",
    "# citation_df = pd.DataFrame(citation_lst,columns=['DOI','Citation'])\n",
    "citation_df.to_csv('JCR2000-2005_citation.csv')"
   ]
  },
  {
   "cell_type": "code",
   "execution_count": 10,
   "metadata": {},
   "outputs": [
    {
     "data": {
      "text/html": [
       "<div>\n",
       "<style scoped>\n",
       "    .dataframe tbody tr th:only-of-type {\n",
       "        vertical-align: middle;\n",
       "    }\n",
       "\n",
       "    .dataframe tbody tr th {\n",
       "        vertical-align: top;\n",
       "    }\n",
       "\n",
       "    .dataframe thead th {\n",
       "        text-align: right;\n",
       "    }\n",
       "</style>\n",
       "<table border=\"1\" class=\"dataframe\">\n",
       "  <thead>\n",
       "    <tr style=\"text-align: right;\">\n",
       "      <th></th>\n",
       "      <th>DOI</th>\n",
       "      <th>Citation</th>\n",
       "    </tr>\n",
       "  </thead>\n",
       "  <tbody>\n",
       "    <tr>\n",
       "      <th>0</th>\n",
       "      <td>10.1086/504132</td>\n",
       "      <td>14</td>\n",
       "    </tr>\n",
       "    <tr>\n",
       "      <th>1</th>\n",
       "      <td>10.1086/649907</td>\n",
       "      <td>305</td>\n",
       "    </tr>\n",
       "    <tr>\n",
       "      <th>2</th>\n",
       "      <td>10.1086/504128</td>\n",
       "      <td>127</td>\n",
       "    </tr>\n",
       "    <tr>\n",
       "      <th>3</th>\n",
       "      <td>10.1086/504121</td>\n",
       "      <td>508</td>\n",
       "    </tr>\n",
       "    <tr>\n",
       "      <th>4</th>\n",
       "      <td>10.1086/504129</td>\n",
       "      <td>96</td>\n",
       "    </tr>\n",
       "    <tr>\n",
       "      <th>...</th>\n",
       "      <td>...</td>\n",
       "      <td>...</td>\n",
       "    </tr>\n",
       "    <tr>\n",
       "      <th>298</th>\n",
       "      <td>10.1086/615047</td>\n",
       "      <td>2</td>\n",
       "    </tr>\n",
       "    <tr>\n",
       "      <th>299</th>\n",
       "      <td>10.1086/506298</td>\n",
       "      <td>46</td>\n",
       "    </tr>\n",
       "    <tr>\n",
       "      <th>300</th>\n",
       "      <td>10.1086/518541</td>\n",
       "      <td>93</td>\n",
       "    </tr>\n",
       "    <tr>\n",
       "      <th>301</th>\n",
       "      <td>10.1086/595718</td>\n",
       "      <td>27</td>\n",
       "    </tr>\n",
       "    <tr>\n",
       "      <th>302</th>\n",
       "      <td>10.1086/596028</td>\n",
       "      <td>487</td>\n",
       "    </tr>\n",
       "  </tbody>\n",
       "</table>\n",
       "<p>303 rows × 2 columns</p>\n",
       "</div>"
      ],
      "text/plain": [
       "                DOI Citation\n",
       "0    10.1086/504132       14\n",
       "1    10.1086/649907      305\n",
       "2    10.1086/504128      127\n",
       "3    10.1086/504121      508\n",
       "4    10.1086/504129       96\n",
       "..              ...      ...\n",
       "298  10.1086/615047        2\n",
       "299  10.1086/506298       46\n",
       "300  10.1086/518541       93\n",
       "301  10.1086/595718       27\n",
       "302  10.1086/596028      487\n",
       "\n",
       "[303 rows x 2 columns]"
      ]
     },
     "execution_count": 10,
     "metadata": {},
     "output_type": "execute_result"
    }
   ],
   "source": [
    "citation_df"
   ]
  },
  {
   "cell_type": "markdown",
   "metadata": {},
   "source": [
    "### Original data"
   ]
  },
  {
   "cell_type": "code",
   "execution_count": 52,
   "metadata": {},
   "outputs": [],
   "source": [
    "df = pd.read_csv('JMR2000-2022_with_citation.csv')"
   ]
  },
  {
   "cell_type": "code",
   "execution_count": 14,
   "metadata": {},
   "outputs": [],
   "source": [
    "# df[\"Citation\"] = np.nan"
   ]
  },
  {
   "cell_type": "markdown",
   "metadata": {},
   "source": [
    "#### Count how many citations are now available"
   ]
  },
  {
   "cell_type": "code",
   "execution_count": 53,
   "metadata": {},
   "outputs": [
    {
     "data": {
      "text/plain": [
       "985"
      ]
     },
     "execution_count": 53,
     "metadata": {},
     "output_type": "execute_result"
    }
   ],
   "source": [
    "count = 0\n",
    "for i in df['Citation']:\n",
    "    # print(i,type(i))\n",
    "    if math.isnan(i) == False:\n",
    "        count += 1\n",
    "count"
   ]
  },
  {
   "cell_type": "markdown",
   "metadata": {},
   "source": [
    "#### Update citations"
   ]
  },
  {
   "cell_type": "code",
   "execution_count": 54,
   "metadata": {},
   "outputs": [
    {
     "name": "stderr",
     "output_type": "stream",
     "text": [
      "/var/folders/28/rtg76x2d1m791yxskrhmnffc0000gn/T/ipykernel_98347/3561171303.py:9: SettingWithCopyWarning: \n",
      "A value is trying to be set on a copy of a slice from a DataFrame\n",
      "\n",
      "See the caveats in the documentation: https://pandas.pydata.org/pandas-docs/stable/user_guide/indexing.html#returning-a-view-versus-a-copy\n",
      "  df['Citation'][i] = float(citation_citation_df)\n"
     ]
    }
   ],
   "source": [
    "for j in range(len(citation_df)):\n",
    "    title_citation_df = citation_df['Title'][j]\n",
    "    citation_citation_df = citation_df['Citation'][j]\n",
    "\n",
    "    for i in range(len(df)):\n",
    "        title_df = df['Title'][i]\n",
    "        if title_citation_df == title_df:\n",
    "            # print(citation_cit)\n",
    "            df['Citation'][i] = float(citation_citation_df)\n"
   ]
  },
  {
   "cell_type": "markdown",
   "metadata": {},
   "source": [
    "### Check citations after updates, it should increase"
   ]
  },
  {
   "cell_type": "code",
   "execution_count": 55,
   "metadata": {},
   "outputs": [
    {
     "data": {
      "text/plain": [
       "1254"
      ]
     },
     "execution_count": 55,
     "metadata": {},
     "output_type": "execute_result"
    }
   ],
   "source": [
    "count=0\n",
    "for i in df['Citation']:\n",
    "    # print(i,type(i))\n",
    "    if math.isnan(i) == False:\n",
    "        count += 1\n",
    "count"
   ]
  },
  {
   "cell_type": "markdown",
   "metadata": {},
   "source": [
    "### Save the update citations"
   ]
  },
  {
   "cell_type": "code",
   "execution_count": 56,
   "metadata": {},
   "outputs": [],
   "source": [
    "df.to_csv('JMR2000-2022_with_citation.csv')"
   ]
  },
  {
   "cell_type": "code",
   "execution_count": 57,
   "metadata": {},
   "outputs": [
    {
     "data": {
      "text/plain": [
       "1254"
      ]
     },
     "execution_count": 57,
     "metadata": {},
     "output_type": "execute_result"
    }
   ],
   "source": [
    "df_check = pd.read_csv('JMR2000-2022_with_citation.csv')\n",
    "count=0\n",
    "for i in df_check['Citation']:\n",
    "    # print(i,type(i))\n",
    "    if math.isnan(i) == False:\n",
    "        count += 1\n",
    "count"
   ]
  },
  {
   "cell_type": "code",
   "execution_count": 266,
   "metadata": {},
   "outputs": [
    {
     "name": "stderr",
     "output_type": "stream",
     "text": [
      "/var/folders/28/rtg76x2d1m791yxskrhmnffc0000gn/T/ipykernel_60958/4116885861.py:6: SettingWithCopyWarning: \n",
      "A value is trying to be set on a copy of a slice from a DataFrame\n",
      "\n",
      "See the caveats in the documentation: https://pandas.pydata.org/pandas-docs/stable/user_guide/indexing.html#returning-a-view-versus-a-copy\n",
      "  df_check['Citation'][i] = result[j]\n"
     ]
    }
   ],
   "source": [
    "final_titles = []\n",
    "result = [2438,0,0,0,0,295,0,69,237]\n",
    "j = 0\n",
    "for i in range(len(df_check)):\n",
    "    if math.isnan(df_check['Citation'][i]) == True:\n",
    "        df_check['Citation'][i] = result[j]\n",
    "        j += 1\n"
   ]
  },
  {
   "cell_type": "code",
   "execution_count": 268,
   "metadata": {},
   "outputs": [
    {
     "data": {
      "text/plain": [
       "0"
      ]
     },
     "execution_count": 268,
     "metadata": {},
     "output_type": "execute_result"
    }
   ],
   "source": [
    "count = 0\n",
    "for i in range(len(df_check)):\n",
    "    if math.isnan(df_check['Citation'][i]) == True:\n",
    "        count += 1\n",
    "count"
   ]
  },
  {
   "cell_type": "code",
   "execution_count": 272,
   "metadata": {},
   "outputs": [
    {
     "ename": "AttributeError",
     "evalue": "'DataFrame' object has no attribute 'unique'",
     "output_type": "error",
     "traceback": [
      "\u001b[0;31m---------------------------------------------------------------------------\u001b[0m",
      "\u001b[0;31mAttributeError\u001b[0m                            Traceback (most recent call last)",
      "Cell \u001b[0;32mIn [272], line 2\u001b[0m\n\u001b[1;32m      1\u001b[0m df\u001b[38;5;241m=\u001b[39m pd\u001b[38;5;241m.\u001b[39mread_csv(\u001b[38;5;124m'\u001b[39m\u001b[38;5;124m/Users/richardpang/Desktop/extract_maintext-1/JM2000-2022_citation.csv\u001b[39m\u001b[38;5;124m'\u001b[39m)\n\u001b[0;32m----> 2\u001b[0m df\u001b[38;5;241m.\u001b[39munique()\n",
      "File \u001b[0;32m/Library/Frameworks/Python.framework/Versions/3.10/lib/python3.10/site-packages/pandas/core/generic.py:5907\u001b[0m, in \u001b[0;36mNDFrame.__getattr__\u001b[0;34m(self, name)\u001b[0m\n\u001b[1;32m   5900\u001b[0m \u001b[39mif\u001b[39;00m (\n\u001b[1;32m   5901\u001b[0m     name \u001b[39mnot\u001b[39;00m \u001b[39min\u001b[39;00m \u001b[39mself\u001b[39m\u001b[39m.\u001b[39m_internal_names_set\n\u001b[1;32m   5902\u001b[0m     \u001b[39mand\u001b[39;00m name \u001b[39mnot\u001b[39;00m \u001b[39min\u001b[39;00m \u001b[39mself\u001b[39m\u001b[39m.\u001b[39m_metadata\n\u001b[1;32m   5903\u001b[0m     \u001b[39mand\u001b[39;00m name \u001b[39mnot\u001b[39;00m \u001b[39min\u001b[39;00m \u001b[39mself\u001b[39m\u001b[39m.\u001b[39m_accessors\n\u001b[1;32m   5904\u001b[0m     \u001b[39mand\u001b[39;00m \u001b[39mself\u001b[39m\u001b[39m.\u001b[39m_info_axis\u001b[39m.\u001b[39m_can_hold_identifiers_and_holds_name(name)\n\u001b[1;32m   5905\u001b[0m ):\n\u001b[1;32m   5906\u001b[0m     \u001b[39mreturn\u001b[39;00m \u001b[39mself\u001b[39m[name]\n\u001b[0;32m-> 5907\u001b[0m \u001b[39mreturn\u001b[39;00m \u001b[39mobject\u001b[39;49m\u001b[39m.\u001b[39;49m\u001b[39m__getattribute__\u001b[39;49m(\u001b[39mself\u001b[39;49m, name)\n",
      "\u001b[0;31mAttributeError\u001b[0m: 'DataFrame' object has no attribute 'unique'"
     ]
    }
   ],
   "source": [
    "df= pd.read_csv('/Users/richardpang/Desktop/extract_maintext-1/JM2000-2022_citation.csv')"
   ]
  }
 ],
 "metadata": {
  "kernelspec": {
   "display_name": "Python 3.10.2 64-bit",
   "language": "python",
   "name": "python3"
  },
  "language_info": {
   "codemirror_mode": {
    "name": "ipython",
    "version": 3
   },
   "file_extension": ".py",
   "mimetype": "text/x-python",
   "name": "python",
   "nbconvert_exporter": "python",
   "pygments_lexer": "ipython3",
   "version": "3.10.2"
  },
  "orig_nbformat": 4,
  "vscode": {
   "interpreter": {
    "hash": "7e1998ff7f8aa20ada591c520b972326324e5ea05489af9e422744c7c09f6dad"
   }
  }
 },
 "nbformat": 4,
 "nbformat_minor": 2
}
