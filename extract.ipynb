{
 "cells": [
  {
   "cell_type": "code",
   "execution_count": 1,
   "metadata": {},
   "outputs": [],
   "source": [
    "from bs4 import BeautifulSoup, NavigableString\n",
    "import csv\n",
    "import pandas as pd"
   ]
  },
  {
   "cell_type": "code",
   "execution_count": 3,
   "metadata": {},
   "outputs": [],
   "source": [
    "# Record titles\n",
    "html_article = '/Users/richardpang/Desktop/extract_maintext/extract_maintext/JM dataset/JM2021-2020.html'\n",
    "titles_abstract = []\n",
    "with open(html_article, 'r') as f:\n",
    "    soup = BeautifulSoup(f, 'html.parser')\n",
    "titles=soup.find_all('h1',{'class':\"delivery-title\"})\n",
    "\n",
    "\n",
    "for i in titles:\n",
    "    title = i.get_text().replace(u'\\xa0', u'')\n",
    "    # Get abstract\n",
    "    abstract = i.findNext('p').get_text()\n",
    "    titles_abstract.append([title,abstract])\n",
    "\n",
    "    \n",
    "# Read articles\n",
    "records = soup.find(id = \"records\")\n",
    "\n",
    "# Delete keywords\n",
    "for p in records.find_all('p', {\"class\":\"body-paragraph\"}):\n",
    "    if p.get_text()[:9] == 'Keywords:':\n",
    "        p.string = ''\n",
    "    if p.get_text()[:18] == 'Online Supplement:':\n",
    "        p.string = ''\n",
    "\n",
    "# Delete tables\n",
    "for table in records.find_all('table'):\n",
    "    i = table.extract()\n",
    "txt = records.get_text()\n",
    "\n"
   ]
  },
  {
   "cell_type": "code",
   "execution_count": 58,
   "metadata": {},
   "outputs": [
    {
     "data": {
      "text/plain": [
       "18"
      ]
     },
     "execution_count": 58,
     "metadata": {},
     "output_type": "execute_result"
    }
   ],
   "source": [
    "len('Online Supplement:')"
   ]
  },
  {
   "cell_type": "code",
   "execution_count": 59,
   "metadata": {},
   "outputs": [
    {
     "data": {
      "text/plain": [
       "57"
      ]
     },
     "execution_count": 59,
     "metadata": {},
     "output_type": "execute_result"
    }
   ],
   "source": [
    "len(titles_abstract)"
   ]
  },
  {
   "cell_type": "markdown",
   "metadata": {},
   "source": [
    "# Citation scraping"
   ]
  },
  {
   "cell_type": "code",
   "execution_count": 60,
   "metadata": {},
   "outputs": [],
   "source": [
    "import csv\n",
    "import re\n",
    "import time\n",
    "from time import sleep\n",
    "import numpy as np\n",
    "import pandas as pd\n",
    "import requests\n",
    "from bs4 import BeautifulSoup"
   ]
  },
  {
   "cell_type": "code",
   "execution_count": 61,
   "metadata": {},
   "outputs": [],
   "source": [
    "def make_url(keyword, conf, author, year, paper_id=None):\n",
    "    \"\"\"make url for search papers\n",
    "    normal search (keyword, conf, author, year) or target search (paper_id)\n",
    "    :param keyword: str or None\n",
    "    :param conf: str or None, conference information\n",
    "    :param author: str or None, author information\n",
    "    :param year: int or None, published year\n",
    "    :param paper_id: None or int, paper information\n",
    "    :return: url\n",
    "    \"\"\"\n",
    "    assert (\n",
    "        keyword is not None\n",
    "        or conf is not None\n",
    "        or author is not None\n",
    "        or year is not None\n",
    "        or paper_id is not None\n",
    "    ), \"KeywordNotFoundError\"\n",
    "    url = \"https://scholar.google.co.jp/scholar?\"\n",
    "    if paper_id is not None:\n",
    "        url += f\"&cites={paper_id}\"\n",
    "    else:\n",
    "        url += \"&as_sdt=0%2C5\"\n",
    "        if keyword is not None:\n",
    "            url += f\"&as_q={'%20'.join(keyword.split())}\"\n",
    "        else:\n",
    "            url += \"&as_q=\"\n",
    "        if conf is not None:\n",
    "            url += f\"&as_publication={'%20'.join(conf.split())}\"\n",
    "        if author is not None:\n",
    "            author = \"+\".join(author.split())\n",
    "            url += f\"&as_sauthors={'%20'.join(author.split())}\"\n",
    "        if year is not None:\n",
    "            url += f\"&as_ylo={year}\"\n",
    "    return url"
   ]
  },
  {
   "cell_type": "code",
   "execution_count": 62,
   "metadata": {},
   "outputs": [],
   "source": [
    "def get_citations(soup):\n",
    "    \"\"\"obtain number of citations from soup\n",
    "    :param soup: parsed html by BeautifulSoup\n",
    "    :return: ci_num_list\n",
    "    \"\"\"\n",
    "    tags3 = soup.find_all(text=re.compile(\"被引用\"))\n",
    "    ci_num_list = []\n",
    "    for tag3 in tags3:\n",
    "        # 被引用数取得\n",
    "        citation = tag3.replace(\"被引用\", \"\")[1:3]\n",
    "        ci_num_list.append(int(citation))\n",
    "    return ci_num_list"
   ]
  },
  {
   "cell_type": "code",
   "execution_count": 63,
   "metadata": {},
   "outputs": [
    {
     "ename": "KeyboardInterrupt",
     "evalue": "",
     "output_type": "error",
     "traceback": [
      "\u001b[0;31m---------------------------------------------------------------------------\u001b[0m",
      "\u001b[0;31mKeyboardInterrupt\u001b[0m                         Traceback (most recent call last)",
      "Cell \u001b[0;32mIn [63], line 9\u001b[0m\n\u001b[1;32m      7\u001b[0m     \u001b[38;5;66;03m# print(get_citations(soup)\u001b[39;00m\n\u001b[1;32m      8\u001b[0m     cite_data\u001b[38;5;241m.\u001b[39mappend([title,get_citations(soup)[\u001b[38;5;241m0\u001b[39m],\u001b[38;5;28mlen\u001b[39m(get_citations(soup))]) \n\u001b[0;32m----> 9\u001b[0m     sleep(np\u001b[38;5;241m.\u001b[39mrandom\u001b[38;5;241m.\u001b[39mrandint(\u001b[38;5;241m5\u001b[39m, \u001b[38;5;241m10\u001b[39m))\n\u001b[1;32m     10\u001b[0m df \u001b[38;5;241m=\u001b[39m pd\u001b[38;5;241m.\u001b[39mDataFrame(cite_data)\n\u001b[1;32m     11\u001b[0m df\u001b[38;5;241m.\u001b[39mto_csv(\u001b[38;5;124m'\u001b[39m\u001b[38;5;124m/Users/richardpang/Desktop/extract_maintext/extract_maintext/citation_data.csv\u001b[39m\u001b[38;5;124m'\u001b[39m)\n",
      "\u001b[0;31mKeyboardInterrupt\u001b[0m: "
     ]
    }
   ],
   "source": [
    "cite_data = []\n",
    "for title in titles_lst:\n",
    "    keyword = title\n",
    "    url = make_url(keyword=keyword, conf=None, author=None, year=None)\n",
    "    html_doc = requests.get(url).text\n",
    "    soup = BeautifulSoup(html_doc, \"html.parser\")\n",
    "    # print(get_citations(soup)\n",
    "    cite_data.append([title,get_citations(soup)[0],len(get_citations(soup))]) \n",
    "    sleep(np.random.randint(5, 10))\n",
    "df = pd.DataFrame(cite_data)\n",
    "df.to_csv('/Users/richardpang/Desktop/extract_maintext/extract_maintext/citation_data.csv')\n"
   ]
  },
  {
   "cell_type": "markdown",
   "metadata": {},
   "source": [
    "# Data Processing"
   ]
  },
  {
   "cell_type": "code",
   "execution_count": 64,
   "metadata": {},
   "outputs": [],
   "source": [
    "new_txt = txt.replace('Database:\\n\\t\\t\\t\\t\\t\\tBusiness Source Complete', \"partitionmark\")\n",
    "new_txt = new_txt.replace('Footnotes', \"partitionmark\")\n",
    "new_txt = new_txt.replace('Supplemental Material', \"partitionmark\")\n",
    "partition = new_txt.split('partitionmark')\n",
    "# print(\"partition\", len(partition))\n"
   ]
  },
  {
   "cell_type": "code",
   "execution_count": 65,
   "metadata": {},
   "outputs": [
    {
     "data": {
      "text/plain": [
       "70605"
      ]
     },
     "execution_count": 65,
     "metadata": {},
     "output_type": "execute_result"
    }
   ],
   "source": [
    "len(partition[1])"
   ]
  },
  {
   "cell_type": "code",
   "execution_count": 68,
   "metadata": {},
   "outputs": [
    {
     "name": "stdout",
     "output_type": "stream",
     "text": [
      "44\n"
     ]
    }
   ],
   "source": [
    "f = open('articles50.csv', 'w')\n",
    "writer = csv.writer(f)\n",
    "header = ['Number', \"Title\", 'Abstract','Body' ]\n",
    "writer.writerow(header)\n",
    "count = 1\n",
    "for i in range (len(partition)):\n",
    "    # print(i,len(partition[i]))\n",
    "    text = partition[i]\n",
    "\n",
    "    if len(text) > 20000:\n",
    "        for pair in titles_abstract:\n",
    "            title = pair[0]\n",
    "            abstract = pair[1]\n",
    "            if text[:50] in title:\n",
    "                text = text[len(title)+1:]\n",
    "                text = text[len(abstract):]\n",
    "\n",
    "\n",
    "                row = [count,title,abstract,text]\n",
    "                writer.writerow(row)\n",
    "                count += 1\n",
    "        # print(text)\n",
    "        # if text[0].isupper():\n",
    "        # print(count,partition[i][:30])\n",
    "        # partition[i] is the main text\n",
    "        # abstract = text.split('KEYWORDS_SPLIT',1)[0]\n",
    "        # body = text.split('KEYWORDS_SPLIT',1)[1]\n",
    "        # for title in titles_lst:\n",
    "        #     if abstract[:50] in title:\n",
    "        #         # print(title,abstract[:50])\n",
    "        #         # print(abstract[:50])\n",
    "        #         abstract = abstract[len(title):]\n",
    "        #         # print(abstract)\n",
    "        #         row = [count, title, abstract, body]\n",
    "        #         writer.writerow(row)\n",
    "        #         count += 1\n",
    "print(count-1)"
   ]
  },
  {
   "cell_type": "code",
   "execution_count": 7,
   "metadata": {},
   "outputs": [
    {
     "data": {
      "text/html": [
       "<div>\n",
       "<style scoped>\n",
       "    .dataframe tbody tr th:only-of-type {\n",
       "        vertical-align: middle;\n",
       "    }\n",
       "\n",
       "    .dataframe tbody tr th {\n",
       "        vertical-align: top;\n",
       "    }\n",
       "\n",
       "    .dataframe thead th {\n",
       "        text-align: right;\n",
       "    }\n",
       "</style>\n",
       "<table border=\"1\" class=\"dataframe\">\n",
       "  <thead>\n",
       "    <tr style=\"text-align: right;\">\n",
       "      <th></th>\n",
       "      <th>Number</th>\n",
       "      <th>Word Count</th>\n",
       "      <th>Title</th>\n",
       "      <th>Abstract</th>\n",
       "      <th>Body</th>\n",
       "    </tr>\n",
       "  </thead>\n",
       "  <tbody>\n",
       "    <tr>\n",
       "      <th>0</th>\n",
       "      <td>1</td>\n",
       "      <td>69316</td>\n",
       "      <td>(When) Does Third-Party Recognition for Design...</td>\n",
       "      <td>Third-party recognition for design excellence ...</td>\n",
       "      <td>Product design is a critical aspect of the inn...</td>\n",
       "    </tr>\n",
       "    <tr>\n",
       "      <th>1</th>\n",
       "      <td>2</td>\n",
       "      <td>70088</td>\n",
       "      <td>A Cinderella Story: How Past Identity Salience...</td>\n",
       "      <td>Like Cinderella, many repurposed products invo...</td>\n",
       "      <td>A worn-out airbag becomes a backpack. A leaky ...</td>\n",
       "    </tr>\n",
       "    <tr>\n",
       "      <th>2</th>\n",
       "      <td>3</td>\n",
       "      <td>20790</td>\n",
       "      <td>A Commentary on “Transformative Marketing: The...</td>\n",
       "      <td>Transformative: Causing a marked change in som...</td>\n",
       "      <td>As a complement to the transformative marketin...</td>\n",
       "    </tr>\n",
       "    <tr>\n",
       "      <th>3</th>\n",
       "      <td>4</td>\n",
       "      <td>64658</td>\n",
       "      <td>A Meta-Analysis of When and How Advertising Cr...</td>\n",
       "      <td>Although creativity is often considered a key ...</td>\n",
       "      <td>Creativity is important in marketing and is of...</td>\n",
       "    </tr>\n",
       "    <tr>\n",
       "      <th>4</th>\n",
       "      <td>5</td>\n",
       "      <td>82765</td>\n",
       "      <td>A Study of Bidding Behavior in Voluntary-Pay P...</td>\n",
       "      <td>The authors investigate compliance behavior an...</td>\n",
       "      <td>In a voluntary-pay auction format, all bidders...</td>\n",
       "    </tr>\n",
       "    <tr>\n",
       "      <th>...</th>\n",
       "      <td>...</td>\n",
       "      <td>...</td>\n",
       "      <td>...</td>\n",
       "      <td>...</td>\n",
       "      <td>...</td>\n",
       "    </tr>\n",
       "    <tr>\n",
       "      <th>136</th>\n",
       "      <td>137</td>\n",
       "      <td>68932</td>\n",
       "      <td>Who Is Wary of User Design? The Role of Power-...</td>\n",
       "      <td>This article evaluates when a user-design appr...</td>\n",
       "      <td>What do Threadless and Linux have in common? T...</td>\n",
       "    </tr>\n",
       "    <tr>\n",
       "      <th>137</th>\n",
       "      <td>138</td>\n",
       "      <td>73376</td>\n",
       "      <td>Who Receives Credit or Blame? The Effects of M...</td>\n",
       "      <td>While prior research has found that consumer-i...</td>\n",
       "      <td>Imagine that a consumer goes to a well-known s...</td>\n",
       "    </tr>\n",
       "    <tr>\n",
       "      <th>138</th>\n",
       "      <td>139</td>\n",
       "      <td>57510</td>\n",
       "      <td>Why the Dynamics of Competition Matter for Cat...</td>\n",
       "      <td>Category management (CM) has become a widespre...</td>\n",
       "      <td>Organized retail is an important business sect...</td>\n",
       "    </tr>\n",
       "    <tr>\n",
       "      <th>139</th>\n",
       "      <td>140</td>\n",
       "      <td>70489</td>\n",
       "      <td>Why Unhappy Customers Are Unlikely to Share Th...</td>\n",
       "      <td>For brands to thrive, they must understand con...</td>\n",
       "      <td>For brands to succeed, it is imperative that t...</td>\n",
       "    </tr>\n",
       "    <tr>\n",
       "      <th>140</th>\n",
       "      <td>141</td>\n",
       "      <td>57697</td>\n",
       "      <td>With Power Comes Responsibility: How Powerful ...</td>\n",
       "      <td>Firms sometimes engage in myopic management (e...</td>\n",
       "      <td>The motivation to satisfy Wall Street earnings...</td>\n",
       "    </tr>\n",
       "  </tbody>\n",
       "</table>\n",
       "<p>141 rows × 5 columns</p>\n",
       "</div>"
      ],
      "text/plain": [
       "     Number  Word Count                                              Title  \\\n",
       "0         1       69316  (When) Does Third-Party Recognition for Design...   \n",
       "1         2       70088  A Cinderella Story: How Past Identity Salience...   \n",
       "2         3       20790  A Commentary on “Transformative Marketing: The...   \n",
       "3         4       64658  A Meta-Analysis of When and How Advertising Cr...   \n",
       "4         5       82765  A Study of Bidding Behavior in Voluntary-Pay P...   \n",
       "..      ...         ...                                                ...   \n",
       "136     137       68932  Who Is Wary of User Design? The Role of Power-...   \n",
       "137     138       73376  Who Receives Credit or Blame? The Effects of M...   \n",
       "138     139       57510  Why the Dynamics of Competition Matter for Cat...   \n",
       "139     140       70489  Why Unhappy Customers Are Unlikely to Share Th...   \n",
       "140     141       57697  With Power Comes Responsibility: How Powerful ...   \n",
       "\n",
       "                                              Abstract  \\\n",
       "0    Third-party recognition for design excellence ...   \n",
       "1    Like Cinderella, many repurposed products invo...   \n",
       "2    Transformative: Causing a marked change in som...   \n",
       "3    Although creativity is often considered a key ...   \n",
       "4    The authors investigate compliance behavior an...   \n",
       "..                                                 ...   \n",
       "136  This article evaluates when a user-design appr...   \n",
       "137  While prior research has found that consumer-i...   \n",
       "138  Category management (CM) has become a widespre...   \n",
       "139  For brands to thrive, they must understand con...   \n",
       "140  Firms sometimes engage in myopic management (e...   \n",
       "\n",
       "                                                  Body  \n",
       "0    Product design is a critical aspect of the inn...  \n",
       "1    A worn-out airbag becomes a backpack. A leaky ...  \n",
       "2    As a complement to the transformative marketin...  \n",
       "3    Creativity is important in marketing and is of...  \n",
       "4    In a voluntary-pay auction format, all bidders...  \n",
       "..                                                 ...  \n",
       "136  What do Threadless and Linux have in common? T...  \n",
       "137  Imagine that a consumer goes to a well-known s...  \n",
       "138  Organized retail is an important business sect...  \n",
       "139  For brands to succeed, it is imperative that t...  \n",
       "140  The motivation to satisfy Wall Street earnings...  \n",
       "\n",
       "[141 rows x 5 columns]"
      ]
     },
     "execution_count": 7,
     "metadata": {},
     "output_type": "execute_result"
    }
   ],
   "source": [
    "my_file = 'JM outpout/2016-2020JM.csv'\n",
    "df = pd.read_csv(my_file)\n",
    "df"
   ]
  }
 ],
 "metadata": {
  "kernelspec": {
   "display_name": "Python 3.10.2 64-bit",
   "language": "python",
   "name": "python3"
  },
  "language_info": {
   "codemirror_mode": {
    "name": "ipython",
    "version": 3
   },
   "file_extension": ".py",
   "mimetype": "text/x-python",
   "name": "python",
   "nbconvert_exporter": "python",
   "pygments_lexer": "ipython3",
   "version": "3.10.2"
  },
  "orig_nbformat": 4,
  "vscode": {
   "interpreter": {
    "hash": "7e1998ff7f8aa20ada591c520b972326324e5ea05489af9e422744c7c09f6dad"
   }
  }
 },
 "nbformat": 4,
 "nbformat_minor": 2
}
