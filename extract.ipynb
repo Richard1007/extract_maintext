{
 "cells": [
  {
   "cell_type": "code",
   "execution_count": 1,
   "metadata": {},
   "outputs": [],
   "source": [
    "from bs4 import BeautifulSoup\n",
    "import csv"
   ]
  },
  {
   "cell_type": "code",
   "execution_count": 2,
   "metadata": {},
   "outputs": [
    {
     "name": "stdout",
     "output_type": "stream",
     "text": [
      "e-commerce presents to marketers to create, communicate, deliver, and capture value.KEYWORDS_SPLITLivestream retailing augments traditional go-to-market strategies by reaching consumers via screen-med\n"
     ]
    }
   ],
   "source": [
    "from ast import keyword\n",
    "\n",
    "titles_lst = []\n",
    "with open('/Users/richardpang/Desktop/extract_maintext/extract_maintext/Exported Items/EBSCOhost50.html', 'r') as f:\n",
    "    soup = BeautifulSoup(f, 'html.parser')\n",
    "titles=soup.find_all('h1',{'class':\"delivery-title\"})\n",
    "\n",
    "# Get titles\n",
    "for i in titles:\n",
    "    title = i.get_text().replace(u'\\xa0', u'')\n",
    "    titles_lst.append(title)\n",
    "\n",
    "\n",
    "\n",
    "# Records consist of articles\n",
    "records = soup.find(id = \"records\")\n",
    "\n",
    "\n",
    "# # Wrap keywords\n",
    "# keywords = soup.new_tag('keywords')\n",
    "# for p in records.find_all('p', {\"class\":\"body-paragraph\"}):\n",
    "#     if p.get_text()[:9] == 'Keywords:':\n",
    "#         p.wrap(keywords)\n",
    "\n",
    "# # Replace \"Keywords: ....\" with \"keywords_delete_this\"\n",
    "# for keywords in records.find_all('keywords'):\n",
    "#     for p in keywords.find_all('p'):\n",
    "#         p.string = \" XXXXXXXXX \"\n",
    "#     print(keywords.get_text())\n",
    "\n",
    "# Wrap keywords\n",
    "\n",
    "for p in records.find_all('p', {\"class\":\"body-paragraph\"}):\n",
    "    if p.get_text()[:9] == 'Keywords:':\n",
    "        p.string = 'KEYWORDS_SPLIT'\n",
    "\n",
    "\n",
    "# Delete tables\n",
    "for table in records.find_all('table'):\n",
    "    i = table.extract()\n",
    "\n",
    "# for i in records.find_all('keywords'):\n",
    "#     print(i)\n",
    "\n",
    "txt = records.get_text()"
   ]
  },
  {
   "cell_type": "code",
   "execution_count": 4,
   "metadata": {},
   "outputs": [
    {
     "name": "stdout",
     "output_type": "stream",
     "text": [
      "['A New Livestream Retail Analytics Framework to Assess the Sales Impact of Emotional Displays', 'Acknowledgments', 'An Emerging Theory of Avatar Marketing', 'Analyzing the Cultural Contradictions of Authenticity: Theoretical and Managerial Insights from the Market Logic of Conscious Capitalism', 'Artificial Intelligence in Utilitarian vs. Hedonic Contexts: The \"Word-of-Machine\" Effect', 'Augmented Reality in Retail and Its Impact on Sales', 'Befriending the Enemy: The Effects of Observing Brand-to-Brand Praise on Consumer Evaluations and Choices', 'Blame the Bot: Anthropomorphism and Anger in Customer–Chatbot Interactions', 'Can Encroachment Benefit Hotel Franchisees?', 'Carbon Footprinting and Pricing Under Climate Concerns', 'Communication in the Gig Economy: Buying and Selling in Online Freelance Marketplaces', 'Conducting Research in Marketing with Quasi-Experiments', 'Connecting to Place, People, and Past: How Products Make Us Feel Grounded', 'Despite Efficiencies, Mergers and Acquisitions Reduce Firm Value by Hurting Customer Satisfaction', 'Do Backer Affiliations Help or Hurt Crowdfunding Success?', 'Examining Why and When Market Share Drives Firm Profit', 'Fields of Gold: Scraping Web Data for Marketing Insights', 'Genetic Data: Potential Uses and Misuses in Marketing', 'GMO Labeling Policy and Consumer Choice', 'Halo or Cannibalization? How New Software Entrants Impact Sales of Incumbent Software in Platform Markets', 'Households Under Economic Change: How Micro- and Macroeconomic Conditions Shape Grocery Shopping Behavior', 'How Consumer Orchestration Work Creates Value in the Sharing Economy', 'How Industries Use Direct-to-Public Persuasion in Policy Conflicts: Asymmetries in Public Voting Responses', 'How Physical Stores Enhance Customer Value: The Importance of Product Inspection Depth', 'Identifying Market Structure: A Deep Network Representation Learning of Social Engagement', 'Is Distance Really Dead in the Online World? The Moderating Role of Geographical Distance on the Effectiveness of Electronic Word of Mouth', 'Leapfrogging, Cannibalization, and Survival During Disruptive Technological Change: The Critical Role of Rate of Disengagement', 'Leveraging Cofollowership Patterns on Social Media to Identify Brand Alliance Opportunities', 'Leveraging Creativity in Charity Marketing: The Impact of Engaging in Creative Activities on Subsequent Donation Behavior', 'Machine Learning for Creativity: Using Similarity Networks to Design Better Crowdfunding Projects', 'Measuring the Real-Time Stock Market Impact of Firm-Generated Content', 'Minimum Payments Alter Debt Repayment Strategies Across Multiple Cards', 'Platform Exploitation: When Service Agents Defect with Customers from Online Service Platforms', 'Regulating Product Recall Compliance in the Digital Age: Evidence from the \"Safe Cars Save Lives\" Campaign', \"Sales and Self: The Noneconomic Value of Selling the Fruits of One's Labor\", 'Shedding Light on the Dark Side of Firm Lobbying: A Customer Perspective', 'The Impact of Corporate Social Responsibility on Brand Sales: An Accountability Perspective', 'The Influence of Social Norms on Consumer Behavior: A Meta-Analysis', 'The Pet Exposure Effect: Exploring the Differential Impact of Dogs Versus Cats on Consumer Mindsets', 'The Platformization of Brands', 'The Rise of New Technologies in Marketing: A Framework and Outlook', 'The Roar of the Crowd: How Interaction Ritual Chains Create Social Atmospheres', 'Virtual Reality in New Product Development: Insights from Prelaunch Sales Forecasting for Durables', 'When to Use Markets, Lines, and Lotteries: How Beliefs About Preferences Shape Beliefs About Allocation', 'Why Salespeople Avoid Big-Whale Sales Opportunities']\n"
     ]
    }
   ],
   "source": [
    "print(titles_lst)"
   ]
  },
  {
   "cell_type": "markdown",
   "metadata": {},
   "source": [
    "# Citation scraping"
   ]
  },
  {
   "cell_type": "code",
   "execution_count": 8,
   "metadata": {},
   "outputs": [],
   "source": [
    "import csv\n",
    "import re\n",
    "import time\n",
    "from time import sleep\n",
    "import numpy as np\n",
    "import pandas as pd\n",
    "import requests\n",
    "from bs4 import BeautifulSoup"
   ]
  },
  {
   "cell_type": "code",
   "execution_count": 9,
   "metadata": {},
   "outputs": [],
   "source": [
    "def make_url(keyword, conf, author, year, paper_id=None):\n",
    "    \"\"\"make url for search papers\n",
    "    normal search (keyword, conf, author, year) or target search (paper_id)\n",
    "    :param keyword: str or None\n",
    "    :param conf: str or None, conference information\n",
    "    :param author: str or None, author information\n",
    "    :param year: int or None, published year\n",
    "    :param paper_id: None or int, paper information\n",
    "    :return: url\n",
    "    \"\"\"\n",
    "    assert (\n",
    "        keyword is not None\n",
    "        or conf is not None\n",
    "        or author is not None\n",
    "        or year is not None\n",
    "        or paper_id is not None\n",
    "    ), \"KeywordNotFoundError\"\n",
    "    url = \"https://scholar.google.co.jp/scholar?\"\n",
    "    if paper_id is not None:\n",
    "        url += f\"&cites={paper_id}\"\n",
    "    else:\n",
    "        url += \"&as_sdt=0%2C5\"\n",
    "        if keyword is not None:\n",
    "            url += f\"&as_q={'%20'.join(keyword.split())}\"\n",
    "        else:\n",
    "            url += \"&as_q=\"\n",
    "        if conf is not None:\n",
    "            url += f\"&as_publication={'%20'.join(conf.split())}\"\n",
    "        if author is not None:\n",
    "            author = \"+\".join(author.split())\n",
    "            url += f\"&as_sauthors={'%20'.join(author.split())}\"\n",
    "        if year is not None:\n",
    "            url += f\"&as_ylo={year}\"\n",
    "    return url"
   ]
  },
  {
   "cell_type": "code",
   "execution_count": 10,
   "metadata": {},
   "outputs": [],
   "source": [
    "def get_citations(soup):\n",
    "    \"\"\"obtain number of citations from soup\n",
    "    :param soup: parsed html by BeautifulSoup\n",
    "    :return: ci_num_list\n",
    "    \"\"\"\n",
    "    tags3 = soup.find_all(text=re.compile(\"被引用\"))\n",
    "    ci_num_list = []\n",
    "    for tag3 in tags3:\n",
    "        # 被引用数取得\n",
    "        citation = tag3.replace(\"被引用\", \"\")[1:3]\n",
    "        ci_num_list.append(int(citation))\n",
    "    return ci_num_list"
   ]
  },
  {
   "cell_type": "code",
   "execution_count": 18,
   "metadata": {},
   "outputs": [
    {
     "name": "stdout",
     "output_type": "stream",
     "text": [
      "[]\n"
     ]
    },
    {
     "ename": "KeyboardInterrupt",
     "evalue": "",
     "output_type": "error",
     "traceback": [
      "\u001b[0;31m---------------------------------------------------------------------------\u001b[0m",
      "\u001b[0;31mKeyboardInterrupt\u001b[0m                         Traceback (most recent call last)",
      "Cell \u001b[0;32mIn [18], line 7\u001b[0m\n\u001b[1;32m      5\u001b[0m soup \u001b[38;5;241m=\u001b[39m BeautifulSoup(html_doc, \u001b[38;5;124m\"\u001b[39m\u001b[38;5;124mhtml.parser\u001b[39m\u001b[38;5;124m\"\u001b[39m)\n\u001b[1;32m      6\u001b[0m \u001b[38;5;28mprint\u001b[39m(get_citations(soup))\n\u001b[0;32m----> 7\u001b[0m sleep(np\u001b[38;5;241m.\u001b[39mrandom\u001b[38;5;241m.\u001b[39mrandint(\u001b[38;5;241m5\u001b[39m, \u001b[38;5;241m10\u001b[39m))\n",
      "\u001b[0;31mKeyboardInterrupt\u001b[0m: "
     ]
    }
   ],
   "source": [
    "for title in titles_lst:\n",
    "    keyword = title\n",
    "    url = make_url(keyword=keyword, conf=None, author=None, year=None)\n",
    "    html_doc = requests.get(url).text\n",
    "    soup = BeautifulSoup(html_doc, \"html.parser\")\n",
    "    print(get_citations(soup))\n",
    "    sleep(np.random.randint(5, 10))"
   ]
  },
  {
   "cell_type": "markdown",
   "metadata": {},
   "source": [
    "# Data Processing"
   ]
  },
  {
   "cell_type": "code",
   "execution_count": 5,
   "metadata": {},
   "outputs": [
    {
     "name": "stdout",
     "output_type": "stream",
     "text": [
      "partition 136\n"
     ]
    }
   ],
   "source": [
    "new_txt = txt.replace('Database:\\n\\t\\t\\t\\t\\t\\tBusiness Source Complete', \"partitionmark\")\n",
    "new_txt = new_txt.replace('Footnotes', \"partitionmark\")\n",
    "new_txt = new_txt.replace('Supplemental Material', \"partitionmark\")\n",
    "partition = new_txt.split('partitionmark')\n",
    "print(\"partition\", len(partition))\n"
   ]
  },
  {
   "cell_type": "code",
   "execution_count": 6,
   "metadata": {},
   "outputs": [
    {
     "name": "stdout",
     "output_type": "stream",
     "text": [
      "42\n"
     ]
    }
   ],
   "source": [
    "f = open('articles50.csv', 'w')\n",
    "writer = csv.writer(f)\n",
    "header = ['Number', \"Body\"]\n",
    "writer.writerow(header)\n",
    "count = 0\n",
    "for i in range (len(partition)):\n",
    "    # print(i,len(partition[i]))\n",
    "    if len(partition[i]) > 40000:\n",
    "        if partition[i][0].isupper():\n",
    "        # print(count,partition[i][:30])\n",
    "            row = [count, partition[i]]\n",
    "            writer.writerow(row)\n",
    "            count += 1\n",
    "print(count)"
   ]
  },
  {
   "cell_type": "code",
   "execution_count": 7,
   "metadata": {},
   "outputs": [
    {
     "name": "stdout",
     "output_type": "stream",
     "text": [
      "A New Livestream Retail Analytics Framework to Assess the Sales Impact of Emotional Displays At the intersection of technology and marketing, this study develops a framework to unobtrusively detect salespeople's faces and simultaneously extract six emotions: happiness, sadness, surprise, anger, fear, and disgust. The authors analyze 99,451 sales pitches on a livestream retailing platform and match them with actual sales transactions. Results reveal that each emotional display, including happiness, uniformly exhibits a negative U-shaped effect on sales over time. The maximum sales resistance appears in the middle rather than at the beginning or end of sales pitches. Taken together, the results show that in one-to-many screen-mediated communications, salespeople should sell with a straight face. In addition, the authors derive closed-form formulae for the optimal allocation of the presence of a face and emotional displays over the presentation span. In contrast to the U-shaped effects, the optimal face presence wanes at the start, gradually builds to a crescendo, and eventually ebbs. Finally, the study shows how to objectively rank salespeople and circumvent biases in performance appraisals, thereby making novel contributions to people analytics. This research integrates new types of data and methods, key theoretical insights, and important managerial implications to inform the expanding opportunity that livestream e-commerce presents to marketers to create, communicate, deliver, and capture value.\n",
      "Count: 1 \n",
      "\n",
      "Analyzing the Cultural Contradictions of Authenticity: Theoretical and Managerial Insights from the Market Logic of Conscious Capitalism This research analyzes the cultural contradictions of authenticity as they pertain to the actions of consumers and marketers. The authors' conceptualization diverges from the conventional assumption that the ambiguity manifest in the concept of authenticity can be resolved by identifying an essential set of defining attributes or by conceptualizing it as a continuum. Using a semiotic approach, the authors identify a general system of structural relationships and ambiguous classifications that organize the meanings through which authenticity is understood and contested in a given market context. They demonstrate the contextually adaptable nature of this framework by analyzing the authenticity contradictions generated by the cultural tensions between \"conscious capitalism\"—a market logic that encompasses both global brands and small independent businesses, such as a farm-to-table restaurant or an organic food co-op—and the elitist critique. The Slow Food movement provides a case study for analyzing how consumers, producers, and entrepreneurs who identify with conscious capitalist ideals understand these disauthenticating, elitist associations and the strategies they use to counter them. The authors conclude by discussing implications of the analysis for theories of authenticity and for managing the authenticity challenges facing conscious capitalist brands.\n",
      "Count: 2 \n",
      "\n",
      "Artificial Intelligence in Utilitarian vs. Hedonic Contexts: The \"Word-of-Machine\" Effect Rapid development and adoption of AI, machine learning, and natural language processing applications challenge managers and policy makers to harness these transformative technologies. In this context, the authors provide evidence of a novel \"word-of-machine\" effect, the phenomenon by which utilitarian/hedonic attribute trade-offs determine preference for, or resistance to, AI-based recommendations compared with traditional word of mouth, or human-based recommendations. The word-of-machine effect stems from a lay belief that AI recommenders are more competent than human recommenders in the utilitarian realm and less competent than human recommenders in the hedonic realm. As a consequence, importance or salience of utilitarian attributes determine preference for AI recommenders over human ones, and importance or salience of hedonic attributes determine resistance to AI recommenders over human ones (Studies 1–4). The word-of machine effect is robust to attribute complexity, number of options considered, and transaction costs. The word-of-machine effect reverses for utilitarian goals if a recommendation needs matching to a person's unique preferences (Study 5) and is eliminated in the case of human–AI hybrid decision making (i.e., augmented rather than artificial intelligence; Study 6). An intervention based on the consider-the-opposite protocol attenuates the word-of-machine effect (Studies 7a–b).\n",
      "Count: 3 \n",
      "\n",
      "Augmented Reality in Retail and Its Impact on Sales The rise of augmented reality (AR) technology presents marketers with promising opportunities to engage customers and transform their brand experience. Although firms are keen to invest in AR, research documenting its tangible impact in real-world contexts is sparse. In this article, the authors outline four broad uses of the technology in retail settings. They then focus specifically on the use of AR to facilitate product evaluation prior to purchase and empirically investigate its impact on sales in online retail. Using data obtained from an international cosmetics retailer, they find that AR usage on the retailer's mobile app is associated with higher sales for brands that are less popular, products with narrower appeal, and products that are more expensive. In addition, the effect of AR is stronger for customers who are new to the online channel or product category, suggesting that the sales increase is coming from online channel adoption and category expansion. These findings provide converging evidence that AR is most effective when product-related uncertainty is high, demonstrating the technology's potential to increase sales by reducing uncertainty and instilling purchase confidence. To encourage more impactful research in this area, the authors conclude with a research agenda for AR in marketing.\n",
      "Count: 4 \n",
      "\n",
      "Befriending the Enemy: The Effects of Observing Brand-to-Brand Praise on Consumer Evaluations and Choices Consumers have grown increasingly skeptical of brands, leaving managers in a dire search for novel ways to connect. The authors suggest that focusing on one's relationships with competitors is a valuable, albeit unexpected, way for brands to do so. More specifically, the present research demonstrates that praising one's competitor—via \"brand-to-brand praise\"—often heightens preference for the praiser more so than other common forms of communication, such as self-promotion or benevolent information. This is because brand-to-brand praise increases perceptions of brand warmth, which leads to enhanced brand evaluations and choice. The authors support this theory with seven studies conducted in the lab, online, and in the field that feature multiple managerially relevant outcomes, including brand attitudes, social media and advertising engagement, brand choice, and purchase behavior, in a variety of product and service contexts. The authors also identify key boundary conditions and rule out alternative explanations, further elucidating the underlying mechanism and important implementation insights. This work contributes to the understanding of brand perception and warmth, providing a novel way for brands to connect to consumers by connecting with each other.\n",
      "Count: 5 \n",
      "\n",
      "Blame the Bot: Anthropomorphism and Anger in Customer–Chatbot Interactions Chatbots have become common in digital customer service contexts across many industries. While many companies choose to humanize their customer service chatbots (e.g., giving them names and avatars), little is known about how anthropomorphism influences customer responses to chatbots in service settings. Across five studies, including an analysis of a large real-world data set from an international telecommunications company and four experiments, the authors find that when customers enter a chatbot-led service interaction in an angry emotional state, chatbot anthropomorphism has a negative effect on customer satisfaction, overall firm evaluation, and subsequent purchase intentions. However, this is not the case for customers in nonangry emotional states. The authors uncover the underlying mechanism driving this negative effect (expectancy violations caused by inflated pre-encounter expectations of chatbot efficacy) and offer practical implications for managers. These findings suggest that it is important to both carefully design chatbots and consider the emotional context in which they are used, particularly in customer service interactions that involve resolving problems or handling complaints.\n",
      "Count: 6 \n",
      "\n",
      "Can Encroachment Benefit Hotel Franchisees? Franchise encroachment, or the addition of an outlet in the vicinity of existing franchisees, is largely viewed as resulting in revenue cannibalization of incumbent locations. Against this backdrop, the authors consider the possibility that the addition of same brand outlets can, in fact, also create positive effects via customer utility and ultimately benefit franchisees, due to a range of mechanisms such as quality signaling, learning, or brand awareness, resulting in a positive pathway on franchisee performance. The authors unpack this possibility using an experiment and detailed proprietary and publicly available data sets from the hotel industry over a five-year period. Their results show evidence of positive effects on customer utility for same-brand outlets and stronger effects for newer brands, cross brands, and online travel agency channel bookings. Counterfactual simulations indicate that although encroachment hurts franchisees on average, it can modestly benefit same-brand franchisees in low-brand-density markets. Together, the findings illustrate the potential \"sunny side\" of encroachment, underscoring the need to update our view of encroachment as context-dependent. The novel emphasis on customers versus the dominant firm view suggests customer and incumbent responses to encroachment should be accounted for in the development of franchise strategy and public policy decisions.\n",
      "Count: 7 \n",
      "\n",
      "Carbon Footprinting and Pricing Under Climate Concerns This article studies how organizations should design a product by choosing the carbon footprint and price in a market with climate concerns. The authors develop a model and first show how the cost and demand effects of reducing the product carbon footprint determine the profit-maximizing product design. They find that stronger climate concerns reduce the product carbon footprint, demand, the overall corporate carbon footprint and profit, but have an ambiguous impact on price. Next, the authors establish that offsetting carbon emissions can create a win-win outcome for the firm and the climate if the cost of compensation is sufficiently low. Going net zero leads to a win for society if the cost of offsetting is sufficiently low compared to the social cost of pollution created by the corporate carbon footprint. Third, the authors show how regulation in the form of a cap-and-trade scheme or a carbon tax affects product design, firm profitability, and green technology adoption. Finally, the authors extend the analysis to a competitive scenario and show that going net zero creates a win-win-win outcome for the firm, the climate, and society if the offset technology is sufficiently effective.\n",
      "Count: 8 \n",
      "\n",
      "Communication in the Gig Economy: Buying and Selling in Online Freelance Marketplaces The proliferating gig economy relies on online freelance marketplaces, which support relatively anonymous interactions through text-based messages. Informational asymmetries thus arise that can lead to exchange uncertainties between buyers and freelancers. Conventional marketing thought recommends reducing such uncertainty. However, uncertainty reduction and uncertainty management theories indicate that buyers and freelancers might benefit more from balancing—rather than reducing—uncertainty, such as by strategically adhering to or deviating from common communication principles. With dyadic analyses of calls for bids and bids from a leading online freelance marketplace, this study reveals that buyers attract more bids from freelancers when they provide moderate degrees of task information and concreteness, avoid sharing personal information, and limit the affective intensity of their communication. Freelancers' bid success and price premiums increase when they mimic the degree of task information and affective intensity exhibited by buyers. However, mimicking a lack of personal information and concreteness reduces freelancers' success, so freelancers should always be more concrete and offer more personal information than buyers. These contingent perspectives offer insights into buyer–seller communication in two-sided online marketplaces. They clarify that despite, or sometimes due to, communication uncertainty, both sides can achieve success in the online gig economy.\n",
      "Count: 9 \n",
      "\n",
      "Conducting Research in Marketing with Quasi-Experiments This article aims to broaden the understanding of quasi-experimental methods among marketing scholars and those who read their work by describing the underlying logic and set of actions that make their work convincing. The purpose of quasi-experimental methods is, in the absence of experimental variation, to determine the presence of a causal relationship. First, the authors explore how to identify settings and data where it is interesting to understand whether an action causally affects a marketing outcome. Second, they outline how to structure an empirical strategy to identify a causal empirical relationship. The article details the application of various methods to identify how an action affects an outcome in marketing, including difference-in-differences, regression discontinuity, instrumental variables, propensity score matching, synthetic control, and selection bias correction. The authors emphasize the importance of clearly communicating the identifying assumptions underlying the assertion of causality. Last, they explain how exploring the behavioral mechanism—whether individual, organizational, or market level—can actually reinforce arguments of causality.\n",
      "Count: 10 \n",
      "\n",
      "Connecting to Place, People, and Past: How Products Make Us Feel Grounded Consumption can provide a feeling of groundedness or being emotionally rooted. This can occur when products connect consumers to their physical (place), social (people), and historic (past) environment. The authors introduce the concept of groundedness to the literature and show that it increases consumer choice; happiness; and feelings of safety, strength, and stability. Following these consequential outcomes, the authors demonstrate how marketers can provide consumers with a feeling of groundedness through product designs, distribution channels, and marketing communications. They also show how marketers might segment the market using observable proxies for consumers' need for groundedness, such as high computer use, high socioeconomic status, or life changes brought on by the COVID-19 pandemic. Taken together, the findings show that groundedness is a powerful concept providing a comprehensive explanation for a variety of consumer trends, including the popularity of local, artisanal, and nostalgic products. It seems that in times of digitization, urbanization, and global challenges, the need to feel grounded has become particularly acute.\n",
      "Count: 11 \n",
      "\n",
      "Despite Efficiencies, Mergers and Acquisitions Reduce Firm Value by Hurting Customer Satisfaction Most researchers focus on the effect of mergers and acquisitions (M&As) on investor returns and overlook customer reactions, despite the fact that customers are directly impacted by these corporate transformations. Others suggest that in M&A contexts, a dual emphasis of customer satisfaction and firm efficiency is both likely and beneficial. In contrast, the authors demonstrate that M&As not only do not yield a dual emphasis but also cause a decline in customer satisfaction to the extent that they eclipse any gain in firm value from an increase in firm efficiency. A quasiexperimental difference-in-differences analysis and an instrumental variable panel regression provide robust evidence for the dark side of M&As for customers. The authors use the attention-based view of the firm to demonstrate that post-M&A customer dissatisfaction occurs because of a shift in executive attention away from customers and toward financial issues. In line with the related upper echelons theory, they find that marketing representation on a firm's board of directors helps maintain executive attention on customers, which mitigates the dysfunctional effect of M&As on customer satisfaction. This research identifies a negative M&A–customer satisfaction relationship and highlights executive attention to customer issues and marketing leadership as factors that mitigate this negative relationship.\n",
      "Count: 12 \n",
      "\n",
      "Do Backer Affiliations Help or Hurt Crowdfunding Success? Crowdfunding has emerged as a mechanism to raise funds for entrepreneurial ideas. On crowdfunding platforms, backers (i.e., individuals who fund ideas) jointly fund the same idea, leading to affiliations, or overlaps, within the community. The authors find that while an increase in the total number of backers may positively affect funding behavior, the resulting affiliations affect funding negatively. They reason that when affiliated others fund a new idea, individuals may feel less of a need to fund, a process known as \"vicarious moral licensing.\" Drawing on data collected from 2,021 ideas on a prominent crowdfunding platform, the authors show that prior affiliation among backers negatively affects an idea's funding amount and eventual funding success. Creator engagement (i.e., idea description and updates) and backer engagement (i.e., Facebook shares) moderate this negative effect. The effect of affiliation is robust across several instrumental variables, model specifications, measures of affiliation, and multiple crowdfunding outcomes. Results from three experiments, a survey, and interviews with backers support the negative effect of affiliation and show that it can be explained by vicarious moral licensing. The authors develop actionable insights for creators to mitigate the negative effects of affiliation with the language used in idea descriptions and updates.\n",
      "Count: 13 \n",
      "\n",
      "Examining Why and When Market Share Drives Firm Profit Many firms use market share to set marketing goals and monitor performance. Recent meta-analytic research reveals the average economic impact of market share performance and identifies some factors affecting its value. However, empirical understanding of why any market share–profit relationship exists and varies is limited. The authors simultaneously examine the three primary theoretical mechanisms linking firm market share with profit. On average, they find that most of the variance in market share's positive effect on firm profit is explained by market power and quality signaling, with little support for operating efficiency as a mechanism. They find a similar explanatory role of the three mechanisms in conditions where market share negatively predicts profit (for niche firms and those \"buying\" market share). Using these mechanism insights, the authors show that the value of market share differs in predictable ways between firms and across industries, providing new understanding of when managers may usefully set market share goals. The authors also provide new insights into how market share should be measured for goal setting and performance monitoring. They show that revenue market share is a predictor of firm profit while unit market share is not, and that relative measures of revenue market share can provide greater predictive power.\n",
      "Count: 14 \n",
      "\n",
      "Fields of Gold: Scraping Web Data for Marketing Insights Marketing scholars increasingly use web scraping and application programming interfaces (APIs) to collect data from the internet. Yet, despite the widespread use of such web data, the idiosyncratic and sometimes insidious challenges in its collection have received limited attention. How can researchers ensure that the data sets generated via web scraping and APIs are valid? While existing resources emphasize technical details of extracting web data, the authors propose a novel methodological framework focused on enhancing its validity. In particular, the framework highlights how addressing validity concerns requires the joint consideration of idiosyncratic technical and legal/ethical questions along the three stages of collecting web data: selecting data sources, designing the data collection, and extracting the data. The authors further review more than 300 articles using web data published in the top five marketing journals and offer a typology of how web data have advanced marketing thought. The article concludes with directions for future research to identify promising web data sources and embrace novel approaches for using web data to capture and describe evolving marketplace realities.\n",
      "Count: 15 \n",
      "\n",
      "Genetic Data: Potential Uses and Misuses in Marketing Advances in molecular genetics have led to the exponential growth of the direct-to-consumer genetic testing industry, resulting in the assembly of massive privately owned genetic databases. This article explores the potential impact of this new data type on the field of marketing. Drawing on findings from behavioral genetic research, the authors propose a framework that incorporates genetic influences into existing consumer behavior theory and use it to survey potential marketing uses of genetic data. Applications include business strategies that rely on genetic variants as bases for segmentation and targeting, creative uses that develop consumers' sense of community and personalization, use of genetically informed study designs to test causal relations, and refinement of consumer theory by uncovering biological mechanisms underlying behavior. The authors further evaluate ethical challenges related to autonomy, privacy, misinformation, and discrimination that are unique to the use of genetic data and are not sufficiently addressed by current regulations. They conclude by proposing an agenda for future research.\n",
      "Count: 16 \n",
      "\n",
      "GMO Labeling Policy and Consumer Choice Most scientists claim that genetically modified organisms (GMOs) in foods are safe for human consumption and offer societal benefits such as better nutritional content. However, many consumers remain skeptical about their safety. Against this backdrop of diverging views, the authors investigate the impact of different GMO labeling policy regimes on the products consumers choose. Guided by the literature on negativity bias, structural alignment theory, and message presentation, and based on findings from four experiments, the authors show that consumer demand for GM foods depends on the labeling regime policy makers adopt. Both absence-focused (\"non-GMO\") and presence-focused (\"contains GMO\") labeling regimes reduce the market share of GM foods, with the reduction being greater in the latter case. GMO labels reduce the importance consumers place on price and enhance their willingness to pay for non-GM products. Results indicate that specific label design choices policy makers implement (in the form of color and style) also affect consumer responses to GM labeling. Consumer attitudes toward GMOs moderate this effect—consumers with neutral attitudes toward GMOs are influenced most significantly by the label design.\n",
      "Count: 17 \n",
      "\n",
      "Halo or Cannibalization? How New Software Entrants Impact Sales of Incumbent Software in Platform Markets Platform markets involve indirect network effects as two or more sides of a market interact through an intermediary platform. Many platform markets consist of both a platform device and corresponding software. In such markets, new software introductions influence incumbent software sales, and new entrants may directly cannibalize incumbents. However, entrants may also create an indirect halo impact by attracting new platform adopters, who then purchase incumbent software. To measure performance holistically, this article introduces a method to quantify both indirect and direct paths and determine which effect dominates and when. The authors identify relevant moderators from the sensations–familiarity framework and conduct empirical tests with data from the video game industry (1995–2019). Results show that the direct impact often results in cannibalization, which generally increases when the entrant is a superstar or part of a franchise. For the indirect halo impact, superstar entrants significantly increase platform adoption, which can help all incumbents. Combining the direct and indirect impacts, the authors find that only new software that is both a superstar and part of a franchise increases platform adoption sufficiently to overcome direct cannibalization and achieve a net positive effect on incumbent software; all other types of entrants have a neutral or negative overall effect.\n",
      "Count: 18 \n",
      "\n",
      "Households Under Economic Change: How Micro- and Macroeconomic Conditions Shape Grocery Shopping Behavior Economic conditions may significantly affect households' shopping behavior and, by extension, retailers' and manufacturers' firm performance. By explicitly distinguishing between two basic types of economic conditions—micro conditions, in terms of households' personal income, and macro conditions, in terms of the business cycle—this study analyzes how households adjust their grocery shopping behavior. The authors observe more than 5,000 households over eight years and analyze shopping outcomes in terms of what, where, and how much they shop and spend. Results show that micro and macro conditions substantially influence shopping outcomes, but in very different ways. Microeconomic changes lead households to adjust primarily their overall purchase volume—that is, after losing income, households buy fewer products and spend less in total. In contrast, macroeconomic changes cause pronounced structural shifts in households' shopping basket allocation and spending behavior. Specifically, during contractions, households shift purchases toward private labels while also buying and consequently spending more than during expansions. During expansions, however, households increasingly purchase national brands but keep their total spending constant. The authors discuss psychological and sociological mechanisms that can explain the differential effects of micro and macro conditions on shopping behavior and develop important diagnostic and normative implications for retailers and manufacturers.\n",
      "Count: 19 \n",
      "\n",
      "How Consumer Orchestration Work Creates Value in the Sharing Economy Sharing economy platforms have become increasingly popular, but many platforms do not create all the value that is possible because consumers face challenges while cocreating their experiences. The authors situate the origin of these challenges in the sharing economy's hybrid cocreation logics, which combine competing communal and transactional logics. Using a qualitative study of Couchsurfing, a platform for sharing free accommodation, the authors find that consumers engage in orchestration work to overcome cocreation roadblocks and extract greater benefits from sharing economy platforms. This orchestration work consists of many actions reflected in four overarching mechanisms: consumer-to-consumer alignment, rewiring relations, trust investment, and network experimentation. The authors connect these mechanisms to known sources of value for firms (i.e., complementarities, efficiency, lock-in, and novelty) to make recommendations for how platform firms can foster consumer orchestration work and unlock the full value of consumer cocreation in the sharing economy.\n",
      "Count: 20 \n",
      "\n",
      "How Industries Use Direct-to-Public Persuasion in Policy Conflicts: Asymmetries in Public Voting Responses Industries use persuasion strategies to gain public support when challenged by activist groups on consumer-relevant issues. This marketing practice, termed \"direct-to-public persuasion,\" has received limited attention in the field, and thus we have little understanding of when such campaigns fail or succeed. This research introduces a theoretically derived and empirically supported framework that draws from multiple areas, including marketing persuasion, political campaign strategy, sociopolitical legitimacy, and perceptual fit, to identify important differences in the effectiveness of these persuasion strategies on attitudes and voting behavior. The multimethod approach includes a field study of ballot measure voting during a national U.S. election and three experimental studies. The findings contribute new knowledge of asymmetries in public response to industry and activist arguments. Stronger arguments from both sides lead to more favorable outcomes, but activist groups benefit most. Suspicion of activist arguments weakens the impact on attitudes and voting; industry argument suspicion has limited impact, though it does increase the likelihood of voter switching. A financial argumentation strategy works best for the industry side, while societal argumentation is more effective for the activist side. The insights offer guidance for industries and activist groups as argument strategy success is contingent on the side that uses it.\n",
      "Count: 21 \n",
      "\n",
      "How Physical Stores Enhance Customer Value: The Importance of Product Inspection Depth The authors investigate the role of the physical store in today's multichannel environment. They posit that one benefit of the store to the retailer is to enhance customer value by providing the physical engagement needed to purchase deep products—products that require ample inspection for customers to make an informed decision. Using a multimethod approach involving a hidden Markov model of transaction data and two experiments, the authors find that buying deep products in the physical store transitions customers to the high-value state more than other product/channel combinations. Findings confirm the hypotheses derived from experiential learning theory. A moderated serial mediation test supports the experiential learning theory–based mechanism for translating physical engagement into customer value: Customers purchase a deep product from the physical store. They reflect on this physical engagement experience, and because it is tangible, concrete, and multisensory, it enables them to develop strong learning about the retailer. This experiential knowledge precipitates repatronage and generalizes to future online purchases in the same category and in adjacent categories, thus contributing to higher customer value. This research suggests that multichannel retailers use a combination of right-channel and right-product strategies for customer development and provides implications for experiential retail designs.\n",
      "Count: 22 \n",
      "\n",
      "Identifying Market Structure: A Deep Network Representation Learning of Social Engagement With rapid technological developments, product-market boundaries have become more dynamic. Consequently, competition for products and services is emerging outside the product-market boundaries traditionally defined based on Standard Industrial Classification and North American Industry Classification System codes. Identifying these fluid product-market boundaries is critical for firms not only to compete effectively within a market but also to identify lurking threats and latent opportunities outside market boundaries. Newly available big data on social media engagement presents such an opportunity. The authors propose a deep network representation learning framework to capture latent relationships among thousands of brands and across many categories, using millions of social media users' brand engagement data. They build a brand–user network and then compress the network into a lower-dimensional space using a deep autoencoder technique. The authors evaluate this approach quantitatively and qualitatively and visually display the market structure using the learned representations of brands. They validate the learned brand relationships using multiple external data sources. They also illustrate how this method can capture the dynamic changes of product-market boundaries using two well-known events—the acquisition of Whole Foods by Amazon and the introduction of the Model 3 by Tesla—and how managers can use the insights that emerge from this analysis.\n",
      "Count: 23 \n",
      "\n",
      "Is Distance Really Dead in the Online World? The Moderating Role of Geographical Distance on the Effectiveness of Electronic Word of Mouth The authors investigate how the geographical distance between online users is associated with electronic word-of-mouth (eWOM) effectiveness. Their research leverages variation in the visibility of eWOM messages on the social media platform of Twitter to address the issue of correlated user behaviors and preferences. The study shows that the likelihood that followers who are exposed to users' WOM subsequently make purchases increases with followers' geographic proximity to the users. The authors propose social identification as a potential mechanism for why geographical distance still matters online in eWOM: because consumers may form a sense of social identity based on their physical location, information regarding the spatial proximity of users could trigger online social identification with others. The findings are robust to alternative methods and specifications, such as further controlling for latent user homophily by incorporating user characteristics and embeddings based on advanced machine-learning and deep-learning models and a corpus of 140 million messages. The authors also rule out several alternative explanations. The findings have important implications for platform design, content curation, and seeding and targeting strategies.\n",
      "Count: 24 \n",
      "\n",
      "Leapfrogging, Cannibalization, and Survival During Disruptive Technological Change: The Critical Role of Rate of Disengagement When faced with new technologies, the incumbents' dilemma is whether to embrace the new technology, stick with their old technology, or invest in both. The entrants' dilemma is whether to target a niche and avoid incumbent reaction or target the mass market and incur the incumbent's wrath. The solution is knowing to what extent the new technology cannibalizes the old one or whether both technologies may exist in tandem. The authors develop a generalized model of the diffusion of successive technologies, which allows for the rate of disengagement from the old technology to differ from the rate of adoption of the new. A low rate of disengagement indicates people hold both technologies (coexistence), whereas a high rate of disengagement indicates they let go of the old technology in favor of the new (cannibalization). The authors test the validity of the model using a simulation of individual-level data. They apply the model to 660 technology pairs and triplets–country combinations from 108 countries spanning 70 years. Data include both penetration and sales plus important case studies. The model helps managers estimate evolving proportions of segments that play different roles in the competition between technologies and predict technological leapfrogging, cannibalization, and coexistence.\n",
      "Count: 25 \n",
      "\n",
      "Leveraging Cofollowership Patterns on Social Media to Identify Brand Alliance Opportunities The use of cobranding and brand extension strategies to access new markets has been a topic of significant interest. However, surprisingly few studies have examined cross-category connections of brands using publicly available digital footprints. In this study, the authors introduce a new, scalable automated approach for identifying potential cobranding and brand extension opportunities using brand networks derived from publicly available Twitter followership data. The digital user–brand relationship, established through followership activity, is regarded as an expression of interest toward the brand. Common followership patterns between brands are then extracted to capture cointerest between those brands' audience. By utilizing the cointerest patterns, the approach aims to derive cross-category brand–brand and brand–category connections, which can serve as important measures for assessing cobranding and extensions opportunities. This article introduces a new construct, transcendence, which measures the extent to which a brand's followers overlap with those of other brands in a new category. The analysis is conducted at different points in time to help managers track shifts in brand transcendence.\n",
      "Count: 26 \n",
      "\n",
      "Leveraging Creativity in Charity Marketing: The Impact of Engaging in Creative Activities on Subsequent Donation Behavior Charities are constantly looking for new and more effective ways to engage potential donors in order to secure the resources needed to deliver services. The current work demonstrates that creative activities are one way for marketers to meet this challenge. Field and lab studies find that engaging potential donors in creative activities positively influences their donation behaviors (i.e., the likelihood of donation and the monetary amount donated). Importantly, the observed effects are shown to be context independent: they hold even when potential donors engage in creative activities unrelated to the focal cause of the charity (or the charitable organization itself). The findings suggest that engaging in a creative activity enhances the felt autonomy of the participant, thus inducing a positive affective state, which in turn leads to higher donation behaviors. Positive affect is demonstrated to enhance donation behaviors due to perceptions of donation impact and a desire for mood maintenance. However, the identified effects emerge only when one engages in a creative activity—not when the activity is noncreative, or when only the concept of creativity itself is made salient.\n",
      "Count: 27 \n",
      "\n",
      "Machine Learning for Creativity: Using Similarity Networks to Design Better Crowdfunding Projects A fundamental tension exists in creativity between novelty and similarity. This research exploits this tension to help creators craft successful projects in crowdfunding. To do so, the authors apply the concept of combinatorial creativity, analyzing each new project in connection to prior similar projects. By using machine learning techniques (Word2vec and Word Mover's Distance), they measure the degrees of similarity between crowdfunding projects on Kickstarter. They analyze how this similarity pattern relates to a project's funding performance and find that ( 1) the prior level of success of similar projects strongly predicts a new project's funding performance, ( 2) the funding performance increases with a balance between being novel and imitative, ( 3) the optimal funding goal is close to the funds raised by prior similar projects, and ( 4) the funding performance increases with a balance between atypical and conventional imitation. The authors use these findings to generate actionable recommendations for project creators and crowdfunding platforms.\n",
      "Count: 28 \n",
      "\n",
      "Measuring the Real-Time Stock Market Impact of Firm-Generated Content Firms increasingly follow an \"always on\" philosophy, publishing multiple pieces of firm-generated content (FGC) every day. Current methodologies used in marketing are unfit to unbiasedly capture the impact of FGC disseminated intermittently throughout the day on stock markets characterized by ultra-high-frequency trading. They also neither distinguish between the permanent (i.e., long-term) and temporary (i.e., short-term) price impacts nor identify FGC attributes capable of generating these price impacts. In this study, the authors define price impact as the impact on the variance of stock price. Employing a market microstructure approach to exploit the variance of high-frequency changes in stock price, the authors estimate the permanent and temporary price impacts of the firm-generated Twitter content of S&P 500 information technology firms. The authors find that firm-generated tweets induce both permanent and temporary price impacts, which are linked to tweet attributes of valence and subject matter. Tweets reflecting only valence or subject matter concerning consumer or competitor orientation result in temporary price impacts, whereas those embodying both attributes generate permanent price impacts. Negative-valence tweets about competitors generate the largest permanent price impacts. Building on these findings, the authors offer suggestions to marketing managers regarding the design of intraday FGC.\n",
      "Count: 29 \n",
      "\n",
      "Minimum Payments Alter Debt Repayment Strategies Across Multiple Cards U.S. households currently hold $770 billion in credit card debt, often managing repayments across multiple accounts. The authors investigate how minimum payment requirements (i.e., the requirement to allocate at least some money to each account with a balance) alter consumers' allocation strategies across multiple accounts. Across four experiments, they find that minimum payment requirements cause consumers to increase dispersion (i.e., spread their repayments more evenly) across accounts. The authors term this change in strategy \"the dispersion effect of minimum payments\" and provide evidence that it can be costly for consumers. They find that the effect is partially driven by the tendency for consumers to interpret minimum payment requirements as recommendations to pay more than the minimum amount. While the presence of the minimum payment requirement is unlikely to change, the authors propose that marketers and policy makers can influence the effects of minimum payments on dispersion by altering the way that information is displayed to consumers. Specifically, they investigate five distinct information displays and find that choice of display can either exaggerate or minimize dispersion and corresponding costs. They discuss implications for consumers, policy makers, and firms, with a particular focus on ways to improve consumer financial well-being.\n",
      "Count: 30 \n",
      "\n",
      "Platform Exploitation: When Service Agents Defect with Customers from Online Service Platforms Online, pure-labor service platforms (e.g., Zeel, Amazon Home Services, Freelancer.com) represent a multibillion-dollar market. An increasing managerial concern in such markets is the opportunistic behavior of service agents who defect with customers off platform for future transactions. Using multiple methods across studies, the authors explain this platform exploitation phenomenon. In Study 1, they utilize a theories-in-use approach to clarify why and when platform exploitation occurs and derive some hypotheses. Study 2 empirically tests these hypotheses using data from a health care platform that connects nurses and patients. The results indicate that high-quality, long-tenured service agents may enhance platform usage, but customers also are more likely to defect with such agents. Platform exploitation also increases with greater customer–agent interaction frequency (i.e., building stronger relationships). This phenomenon decreases agents' platform usage due to capacity constraints caused by serving more customers off platform. These effects are stronger as service price increases (because higher prices equate to more fee savings), as service repetitiveness increases, and as the agent's on-platform customer pool comprises more repeat and more proximal customers. Finally, the authors use two scenario-based experiments to establish some managerial strategies to combat platform exploitation.\n",
      "Count: 31 \n",
      "\n",
      "Regulating Product Recall Compliance in the Digital Age: Evidence from the \"Safe Cars Save Lives\" Campaign The unprecedented number of product recalls in recent years and subsequent low consumer recall compliance raise questions about the role of regulatory agencies in ensuring safety. In this study, the authors develop a conceptual framework to test the impact of a regulator-initiated digital marketing campaign (DMC) on consumer recall compliance. The empirical context is the launch of a nationwide DMC by the U.S. automobile industry's regulator. The analysis utilizes recall completion data from 296 product recalls active both before and after the DMC's launch. The results show that the DMC improves consumer recall compliance. In the first four quarters after it was introduced, the DMC increased the number of vehicles fixed, on average, by 20,712 per recall campaign over what would be expected without the DMC. Regarding boundary conditions, the study finds that the DMC is more effective for recall campaigns with greater media coverage and for those with older recalled products. However, the DMC's effect weakens as the time needed to repair a defective component increases. The findings should help regulators make compelling cases for greater resource allocation toward digital initiatives to improve recall compliance.\n",
      "Count: 32 \n",
      "\n",
      "Sales and Self: The Noneconomic Value of Selling the Fruits of One's Labor A core assumption across many disciplines is that producers enter market exchange relationships for economic reasons. This research examines an overlooked factor; namely, the socioemotional benefits of selling the fruits of one's labor. Specifically, the authors find that individuals selling their products interpret sales as a signal from the market that serves as a source of self-validation, thus increasing their happiness above and beyond any monetary rewards from those sales. This effect highlights an information asymmetry that is opposite to what is found in traditional signaling theory. That is, the authors find that customers have information about product quality that they signal to the producer, validating the producer's skill level. Furthermore, the sales-as-signal effect is moderated by characteristics of the purchase transaction that determine the signal strength of sales: The effect is attenuated when product choice does not reflect a deliberate decision and is amplified when buyers incur higher monetary costs. In addition, sales have a stronger effect on happiness than alternative, nonmonetary forms of market signals such as likes. Finally, the sales-as-signal effect is more pronounced when individuals sell their self-made (vs. other-made) products and affects individuals' happiness beyond the happiness gained from producing.\n",
      "Count: 33 \n",
      "\n",
      "Shedding Light on the Dark Side of Firm Lobbying: A Customer Perspective Firms spend a substantial amount on lobbying—devoting financial resources on teams of lobbyists to further their interests among regulatory stakeholders. Previous research acknowledges that lobbying positively influences firm value, but no studies have examined the parallel effects for customers. Building on the attention-based view (ABV) of the firm, the authors examine these customer effects. Findings reveal that lobbying negatively affects customer satisfaction such that the positive relationship between lobbying and firm value is mediated by losses to customer satisfaction. These findings suggest a dark side of lobbying and challenge current thinking. However, several customer-focused moderators attenuate the negative effect of lobbying on customer satisfaction, predicted by ABV theory, including the chief executive officer's background (marketing vs. other functional area) and the firm's strategic use of resources (advertising spending, research-and-development spending, or lobbying for product market issues). These moderators ensure consistency between lobbying and customer priorities or direct firm attention toward customers even while firms continue to lobby. Finally, the authors verify that lobbying reduces the firm's customer focus by measuring this focus directly using text analysis of firm communications with shareholders. Collectively, the research provides managerial implications for navigating both lobbying activities and customer priorities, and public policy implications for lobbying disclosure requirements.\n",
      "Count: 34 \n",
      "\n",
      "The Impact of Corporate Social Responsibility on Brand Sales: An Accountability Perspective Consumers are increasingly mindful of corporate social responsibility (CSR) when making purchase and consumption decisions, but evidence of the impact of CSR initiatives on actual purchase decisions is lacking. This article introduces a novel brand accountability–based framework of consumer response to CSR initiatives, which categorizes CSR efforts as \"corrective,\" \"compensating,\" or \"cultivating goodwill.\" Leveraging a database of CSR press releases by leading consumer packaged goods brands, the authors examine the effect of the different types of CSR announcements on brand sales. The findings suggest that CSR initiatives that genuinely aim to reduce a brand's negative externalities (\"corrective\" and \"compensating\") lift sales, whereas CSR actions focused on philanthropy (\"cultivating goodwill\") can hurt sales. The authors propose two moderators—CSR reputation and CSR focus on environmental or social causes—and a mechanism for these effects, which they examine under controlled experimental settings. The experimental results show that, conditional on CSR reputation, consumers perceive varying degrees of sincerity in the different CSR types and that sincerity mediates the effect of CSR type on purchase intentions. Overall, the results suggest that consumers are more inclined to reward firms that directly reduce the negative by-products of their own business practices than to be impressed by public goodwill gestures.\n",
      "Count: 35 \n",
      "\n",
      "The Influence of Social Norms on Consumer Behavior: A Meta-Analysis Social norms shape consumer behavior. However, it is not clear under what circumstances social norms are more versus less effective in doing so. This gap is addressed through an interdisciplinary meta-analysis examining the impact of social norms on consumer behavior across a wide array of contexts involving the purchase, consumption, use, and disposal of products and services, including socially approved (e.g., fruit consumption, donations) and disapproved (e.g., smoking, gambling) behaviors. Drawing from reactance theory and based on a cross-disciplinary data set of 250 effect sizes from research spanning 1978–2019 representing 112,478 respondents from 22 countries, the authors examine the effects of five categories of moderators of the effectiveness of social norms on consumer behavior: ( 1) target behavior characteristics, ( 2) communication factors, ( 3) consumer costs, ( 4) environmental factors, and ( 5) methodological characteristics. The findings suggest that while the effect of social norms on approved behavior is stable across time and cultures, their effect on disapproved behavior has grown over time and is stronger in survival and traditional cultures. Communications identifying specific organizations or close group members enhance compliance with social norms, as does the presence of monetary costs. The authors leverage their findings to offer managerial implications and a future research agenda for the field.\n",
      "Count: 36 \n",
      "\n",
      "The Pet Exposure Effect: Exploring the Differential Impact of Dogs Versus Cats on Consumer Mindsets Despite the ubiquity of pets in consumers' lives, scant research has examined how exposure to them (e.g., recalling past interactions with dogs and cats, viewing ads featuring a dog or a cat) influences consumer behavior. The authors demonstrate that exposure to dogs (cats) reminds consumers of the stereotypical temperaments and behaviors of the pet species, which activates a promotion- (prevention-) focused motivational mindset among consumers. Using secondary data, Study 1 shows that people in states with a higher percentage of dog (cat) owners Google more promotion- (prevention-) focused words and report a higher COVID-19 transmission rate. Using multiple products, Studies 2 and 3 demonstrate that these regulatory mindsets, when activated by pet exposure, carry over to influence downstream consumer judgments, purchase intentions, and behaviors, even in pet-unrelated consumption contexts. Study 4 shows that pet stereotypicality moderates the proposed effect such that the relationship between pet exposure and regulatory orientations persists to the extent consumers are reminded of the stereotypical temperaments and behaviors of the pet species. Studies 5–7 examine the role of regulatory fit and evince that exposure to dogs (cats) leads to more favorable responses toward advertising messages featuring promotion- (prevention-) focused appeals.\n",
      "Count: 37 \n",
      "\n",
      "The Platformization of Brands Digital platforms that aggregate products and services, such as Google Shopping or Amazon, have emerged as powerful intermediaries to brand offerings, challenging traditional product brands that have largely lost direct access to consumers. As a countermeasure, several long-established brands have built their own flagship platforms to resume control and foster consumer loyalty. For example, sports brands such as Nike, Adidas, or Asics launched tracking and training platforms that allow for ongoing versatile interactions among participants beyond product purchase. The authors analyze these emerging platform offerings, whose potential brands struggle to exploit, and provide guidance for brands that aim to platformize their business. This guidance comprises the conceptualization of digital platforms as places of consumer crowdsourcing (i.e., consumers drawing value from platform participants such as the brand, other consumers, or third-party businesses) and crowdsending (i.e., consumers providing value to platform participants) of products, services, and content along with a well-defined framework that brands can apply to assemble different types of flagship platforms. Evaluating the consequences of crowdsourcing and crowdsending for consumer–platform relationships, the authors derive a typology of archetypical relationship states and develop a set of propositions to help offline-born product brands thrive through platformization.\n",
      "Count: 38 \n",
      "\n",
      "The Roar of the Crowd: How Interaction Ritual Chains Create Social Atmospheres Atmospheres are experiences of place involving transformations of consumers' behaviors and emotions. Existing marketing research reveals how atmospheric stimuli, service performances, and ritual place-making enhance place experiences and create value for firms. Yet it remains unclear how shared experiences of atmosphere emerge and intensify among groups of people during collective live events. Accordingly, this article uses sociological interaction ritual theory to conceptualize \"social atmospheres\": rapidly changing qualities of place created when a shared focus aligns consumers' emotions and behavior, resulting in lively expressions of collective effervescence. With data from an ethnography of an English Premier League football stadium, the authors identify a four-stage process of creating atmospheres in interaction ritual chains. This framework goes beyond conventional retail and servicescape design by demonstrating that social atmospheres are mobile and cocreated between firms and consumers before, during, and after a main event. The study also reveals how interaction rituals can be disrupted and offers insight as to how firms can balance key tensions in creating social atmospheres as a means to enhance customer experiences, customer loyalty, and communal place attachments.\n",
      "Count: 39 \n",
      "\n",
      "Virtual Reality in New Product Development: Insights from Prelaunch Sales Forecasting for Durables This investigation examines how consumer durable goods producers can leverage virtual reality for new product development. First, the authors develop a prelaunch sales forecasting approach with two key features: virtual reality and an extended macro-flow model. To assess its effectiveness, the authors collect data from 631 potential buyers of two real-world innovations. The results reveal that the new approach yields highly accurate prelaunch forecasts across the two field studies: compared with the actual sales data tracked after the product launches, the prediction errors for the aggregated first-year sales are only 1.9% (Study 1a, original prelaunch sales forecast),.0% (Study 1b, forecast with actual advertisement spending), and 20.0% (Study 1b, original prelaunch forecast). Moreover, the average mean absolute percentage error for the monthly sales is only 23% across both studies. Second, to understand the mechanisms of virtual reality, the authors conduct a controlled laboratory experiment. The findings reveal that virtual reality fosters behavioral consistency between participants' information search, preferences, and buying behavior. Moreover, virtual reality enhances participants' perceptions related to presence and vividness, but not their perceptions related to alternative theoretical perspectives. Finally, the authors provide recommendations for when and how managers can use virtual reality in new product development.\n",
      "Count: 40 \n",
      "\n",
      "When to Use Markets, Lines, and Lotteries: How Beliefs About Preferences Shape Beliefs About Allocation When allocating scarce goods and services, firms often either prioritize those willing to spend the most resources (e.g., money, in the case of markets; time, in the case of lines) or simply ignore such differences and allocate randomly (e.g., through lotteries). When do these resource-based allocation rules seem most appropriate, and why? Here, the authors propose that people are more likely to endorse markets and lines when these systems increase the likelihood that scarce goods and services go to those who have the strongest preferences—that is, when they help sort preferences. This is most feasible when preferences are dissimilar (i.e., some consumers want something much more than others). Consequently, people are naturally attuned to preference variance: when preferences for something are similar, markets and lines seem less appropriate, because it is unlikely that the highest bidders or those who have waited the longest actually have the strongest preferences. However, when preferences are dissimilar, markets and lines seem more appropriate, because they can more easily sort preferences. Consumers thus react negatively when firms use resource-based allocation rules in situations where preferences cannot be easily sorted (e.g., when preferences are similar).\n",
      "Count: 41 \n",
      "\n",
      "Why Salespeople Avoid Big-Whale Sales Opportunities Contrary to the intuition that salespeople gravitate toward big-whale sales opportunities, in reality they often avoid them. To study this phenomenon, the authors integrate contingent decision-making and conservation-of-resources theories to develop and test a framework of salespeople's decision making when prospecting. Study 1 reveals that the performance impact of salesperson initial judgment of opportunity magnitude follows an inverted U-shape, indicating that salespeople's avoidance of large opportunities results from rational benefit–cost analyses due to their conservation of resources. Interestingly, salespeople use a calibration decision-making strategy (i.e., calculating expected benefits by accounting for conversion uncertainty) at the portfolio rather than prospect level, in solution- but not product-selling contexts. Ignoring this calibration effect can lead to under- or overestimation of conversion rates of up to 100%. Study 2 shows that salespeople's past performance success and experience bias this calibration. Simulations reveal that when high performers or inexperienced salespeople believe their portfolio magnitude is large and conversion uncertainty low, they are less concerned about resource conservation and improve their quota attainment by 50%. Study 3 confirms the theoretical mechanism. These findings shed new light on salespeople's decision making and suggest ways for sales professionals to improve effectiveness when prospecting.\n",
      "Count: 42 \n",
      "\n"
     ]
    }
   ],
   "source": [
    "import pandas as pd\n",
    "df = pd.read_csv('/Users/richardpang/Desktop/extract_maintext/extract_maintext/articles50.csv')\n",
    "count = 0\n",
    "for index, row in df.iterrows():\n",
    "    number = row['Number']\n",
    "    text = row['Body']\n",
    "    count += 1\n",
    "    abstract = text.split('KEYWORDS_SPLIT',1)[0]\n",
    "    print(abstract)\n",
    "    \n",
    "    main_text = text.split('KEYWORDS_SPLIT',1)[1]\n",
    "    # print(main_text)\n",
    "    print('Count:',count,'\\n')\n"
   ]
  }
 ],
 "metadata": {
  "kernelspec": {
   "display_name": "Python 3.10.2 64-bit",
   "language": "python",
   "name": "python3"
  },
  "language_info": {
   "codemirror_mode": {
    "name": "ipython",
    "version": 3
   },
   "file_extension": ".py",
   "mimetype": "text/x-python",
   "name": "python",
   "nbconvert_exporter": "python",
   "pygments_lexer": "ipython3",
   "version": "3.10.2"
  },
  "orig_nbformat": 4,
  "vscode": {
   "interpreter": {
    "hash": "7e1998ff7f8aa20ada591c520b972326324e5ea05489af9e422744c7c09f6dad"
   }
  }
 },
 "nbformat": 4,
 "nbformat_minor": 2
}
